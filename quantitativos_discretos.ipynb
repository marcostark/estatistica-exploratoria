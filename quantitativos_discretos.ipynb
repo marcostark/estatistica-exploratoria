{
 "cells": [
  {
   "cell_type": "markdown",
   "metadata": {},
   "source": [
    "# DADOS QUANTITATIVOS DISCRETOS"
   ]
  },
  {
   "cell_type": "code",
   "execution_count": 4,
   "metadata": {},
   "outputs": [
    {
     "name": "stdout",
     "output_type": "stream",
     "text": [
      "Média: 2 \n",
      "Moda: 3 \n",
      "Mediana: 3 \n",
      "Quartil: 2 \n",
      "Percentil:  2.0\n"
     ]
    }
   ],
   "source": [
    "import matplotlib.pyplot as plt\n",
    "import pandas as pd\n",
    "import numpy as np\n",
    "\n",
    "table_qnt_filhos = pd.read_csv(\"bases/aulas/tabela_quant_filhos.csv\")\n",
    "\n",
    "# Usando pandas para criar a series de numeros\n",
    "qnt_filhos = pd.Series([4,1,4,3,4,3,3,2,3,4,2,5,1,3,2,2])\n",
    "\n",
    "print(\"Média: %d \" % qnt_filhos.mean())\n",
    "print(\"Moda: %d \" % qnt_filhos.mode())\n",
    "\n",
    "print(\"Mediana: %d \" % qnt_filhos.median())\n",
    "print(\"Quartil: %d \" % qnt_filhos.quantile(q=0.25))\n",
    "\n",
    "percentil = np.percentile(qnt_filhos,16)\n",
    "print(\"Percentil: \", percentil)\n",
    "\n",
    "# Criar coluna de frequencia acumulada\n"
   ]
  },
  {
   "cell_type": "markdown",
   "metadata": {},
   "source": [
    "### Media\n",
    "A média indica o valor onde estão concetrados os dados de um conjuto de valores, representando um valor\n",
    "significativo para o mesmo."
   ]
  },
  {
   "cell_type": "code",
   "execution_count": 5,
   "metadata": {},
   "outputs": [
    {
     "name": "stdout",
     "output_type": "stream",
     "text": [
      "Média:  2.875\n"
     ]
    }
   ],
   "source": [
    "print(\"Média: \", qnt_filhos.mean())"
   ]
  },
  {
   "cell_type": "markdown",
   "metadata": {},
   "source": [
    "### Moda\n",
    "A moda é o valor que mais se repete dentro de um conjunto"
   ]
  },
  {
   "cell_type": "code",
   "execution_count": 6,
   "metadata": {},
   "outputs": [
    {
     "name": "stdout",
     "output_type": "stream",
     "text": [
      "Moda: 3 \n"
     ]
    }
   ],
   "source": [
    "print(\"Moda: %d \" % qnt_filhos.mode())"
   ]
  },
  {
   "cell_type": "markdown",
   "metadata": {},
   "source": [
    "### Mediana\n",
    "A media é o valor central de um conjunto, ou seja, ela separa a metade superior da metade inferior de uma distribuição"
   ]
  },
  {
   "cell_type": "code",
   "execution_count": 7,
   "metadata": {},
   "outputs": [
    {
     "name": "stdout",
     "output_type": "stream",
     "text": [
      "Mediana: 3 \n"
     ]
    }
   ],
   "source": [
    "#qnt_filhos_ord = sorted(qnt_filhos)\n",
    "#centro = tam/2 \n",
    "#mediana = qnt_filhos_ord[int(centro)] # centro = 8\n",
    "#print(\"Mediana: %d \" % mediana)\n",
    "\n",
    "print(\"Mediana: %d \" % qnt_filhos.median())"
   ]
  },
  {
   "cell_type": "markdown",
   "metadata": {},
   "source": [
    "### Quartil"
   ]
  },
  {
   "cell_type": "code",
   "execution_count": 8,
   "metadata": {},
   "outputs": [
    {
     "name": "stdout",
     "output_type": "stream",
     "text": [
      "Quartil: 2 \n"
     ]
    }
   ],
   "source": [
    "print(\"Quartil: %d \" % qnt_filhos.quantile(q=0.25)) #Primeiro quartil"
   ]
  },
  {
   "cell_type": "markdown",
   "metadata": {},
   "source": [
    "### Percentil"
   ]
  },
  {
   "cell_type": "code",
   "execution_count": 9,
   "metadata": {},
   "outputs": [
    {
     "name": "stdout",
     "output_type": "stream",
     "text": [
      "Percentil:  2.0\n"
     ]
    }
   ],
   "source": [
    "percentil = np.percentile(qnt_filhos,16)\n",
    "print(\"Percentil: \", percentil)"
   ]
  },
  {
   "cell_type": "markdown",
   "metadata": {},
   "source": [
    "## Medidas de dispersão\n",
    "São medidas que indicam o quão espalhados estão os dados, ou sua variação. São elas: Amplitude, variância, desvio padrão e desvio absoluto"
   ]
  },
  {
   "cell_type": "code",
   "execution_count": 10,
   "metadata": {},
   "outputs": [
    {
     "name": "stdout",
     "output_type": "stream",
     "text": [
      "[0, 0, 0, 0, 1, 1, 1, 1, 1, 2, 2, 2, 3, 3, 5, 5, 5, 7, 8, 9]\n",
      "----------------------------------------\n",
      "Média:  2.8\n",
      "Desvio padrão: 2.78 \n",
      "Moda: 1\n",
      "Mediana: 2\n",
      "Q1: 1\n",
      "Q3: 5\n"
     ]
    }
   ],
   "source": [
    "qnt_acidentes = pd.Series([3,5,0,2,3,5,9,0,2,1,1,0,1,8,5,1,1,7,2,0])\n",
    "print(sorted(qnt_acidentes))\n",
    "\n",
    "# Descrição rapida dos dados\n",
    "# count = Quantidade de dados\n",
    "# mean = Média\n",
    "# sdt = Desvio Padrão\n",
    "# min = Valor Minimo\n",
    "# 25% = 1° Quartil\n",
    "# 50% = 1° Quartil\n",
    "# 75% = 1° Quartil\n",
    "# max = Valor máximo\n",
    "#print(qnt_acidentes.describe())\n",
    "\n",
    "print(\"----------------------------------------\")\n",
    "media = qnt_acidentes.mean()\n",
    "print(\"Média: \", media )\n",
    "print(\"Desvio padrão: %.2f \" % qnt_acidentes.std())\n",
    "print(\"Moda: %d\" % qnt_acidentes.mode())\n",
    "print(\"Mediana: %d\" % qnt_acidentes.median())\n",
    "print(\"Q1: %d\" % qnt_acidentes.quantile(q=0.25))\n",
    "print(\"Q3: %d\" % qnt_acidentes.quantile(q=0.75))\n",
    "\n",
    "percentil = np.percentile(qnt_acidentes, 73)\n",
    "\n",
    "# print(\"Percentil 73: \", percentil ) # VER ISSO"
   ]
  },
  {
   "cell_type": "code",
   "execution_count": 3,
   "metadata": {},
   "outputs": [
    {
     "name": "stdout",
     "output_type": "stream",
     "text": [
      "0.0592\n"
     ]
    }
   ],
   "source": [
    "print(((16/100)*0.37))"
   ]
  },
  {
   "cell_type": "markdown",
   "metadata": {},
   "source": [
    "### Amplitude\n",
    "#### A = maximo - minimo\n",
    "A amplitude é a diferença entre o maior e menor valor de um conjunto de dados."
   ]
  },
  {
   "cell_type": "code",
   "execution_count": 12,
   "metadata": {},
   "outputs": [
    {
     "name": "stdout",
     "output_type": "stream",
     "text": [
      "Máximo: 9 Mínimo: 0\n",
      "Amplitude: 9 \n"
     ]
    }
   ],
   "source": [
    "minimo = qnt_acidentes.min()\n",
    "maximo = qnt_acidentes.max()\n",
    "\n",
    "print(\"Máximo: %d Mínimo: %d\" % (maximo, minimo) )\n",
    "print(\"Amplitude: %d \" % (maximo - minimo))"
   ]
  },
  {
   "cell_type": "markdown",
   "metadata": {},
   "source": [
    "### Variancia \n",
    "#### (S²) - Amostral\n",
    "#### (O²) - Populacional\n",
    "A variância indica quanto os dados de um conjunto estão afastados de seu valor esperado."
   ]
  },
  {
   "cell_type": "code",
   "execution_count": 13,
   "metadata": {},
   "outputs": [
    {
     "name": "stdout",
     "output_type": "stream",
     "text": [
      "Variância: 7.747368421052631 \n"
     ]
    }
   ],
   "source": [
    "print(\"Variância: %s \" % qnt_acidentes.var())"
   ]
  },
  {
   "cell_type": "code",
   "execution_count": null,
   "metadata": {},
   "outputs": [],
   "source": []
  },
  {
   "cell_type": "code",
   "execution_count": null,
   "metadata": {},
   "outputs": [],
   "source": []
  }
 ],
 "metadata": {
  "kernelspec": {
   "display_name": "Python 3",
   "language": "python",
   "name": "python3"
  },
  "language_info": {
   "codemirror_mode": {
    "name": "ipython",
    "version": 3
   },
   "file_extension": ".py",
   "mimetype": "text/x-python",
   "name": "python",
   "nbconvert_exporter": "python",
   "pygments_lexer": "ipython3",
   "version": "3.6.5"
  }
 },
 "nbformat": 4,
 "nbformat_minor": 2
}
