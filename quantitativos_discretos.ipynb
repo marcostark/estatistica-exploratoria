{
 "cells": [
  {
   "cell_type": "markdown",
   "metadata": {},
   "source": [
    "# DADOS QUANTITATIVOS DISCRETOS"
   ]
  },
  {
   "cell_type": "code",
   "execution_count": 23,
   "metadata": {},
   "outputs": [
    {
     "name": "stdout",
     "output_type": "stream",
     "text": [
      "Média: 3 \n",
      "Moda: 0    2.32\n",
      "1    2.90\n",
      "dtype: float64 \n",
      "Mediana: 4 \n",
      "Quartil: 2 \n",
      "Percentil:  2 \n",
      "Soma:  159.86\n",
      "Mínimo:  0.63\n",
      "Máximo:  6.29\n",
      "Amplitude:  5.66\n",
      "\n",
      "[(2.9, 2), (2.32, 2), (0.63, 1), (1.42, 1), (2.7, 1), (3.38, 1), (4.92, 1), (5.74, 1), (6.01, 1), (1.56, 1), (2.12, 1), (2.14, 1), (1.47, 1), (6.18, 1), (1.03, 1), (5.91, 1), (4.38, 1), (5.84, 1), (5.57, 1), (5.54, 1), (5.92, 1), (3.21, 1), (5.73, 1), (0.98, 1), (5.67, 1), (6.04, 1), (5.83, 1), (3.68, 1), (5.8, 1), (3.9, 1), (6.29, 1), (1.11, 1), (2.99, 1), (4.57, 1), (5.99, 1), (5.96, 1), (5.43, 1), (3.78, 1)]\n"
     ]
    },
    {
     "data": {
      "image/png": "[encoded data removed]",
      "text/plain": [
       "<Figure size 432x288 with 1 Axes>"
      ]
     },
     "metadata": {},
     "output_type": "display_data"
    }
   ],
   "source": [
    "from pandas.tools.plotting import scatter_matrix\n",
    "from collections import Counter\n",
    "import matplotlib.pyplot as plt\n",
    "import pandas as pd\n",
    "import numpy as np\n",
    "\n",
    "data = [\n",
    "    1.42, 2.70, 5.67, 5.83, 5.74, 1.56, 2.32, 2.14, 0.63, 2.99, \n",
    "    1.03, 2.12, 6.01, 5.84, 5.91, 5.80, 5.54, 5.99, 2.90, 2.90, \n",
    "    5.92, 5.96, 5.73, 4.92, 6.18, 4.38, 6.29, 3.38, 3.78, 6.04, \n",
    "    3.90, 5.57, 1.47, 3.21, 2.32, 4.57, 0.98, 5.43, 1.11, 3.68\n",
    "    ]\n",
    "\n",
    "\n",
    "# Usando pandas para criar a series de numeros\n",
    "vel_internet = pd.Series(data)\n",
    "\n",
    "print(\"Média: %d \" % vel_internet.mean())\n",
    "print(\"Moda: %s \" % vel_internet.mode())\n",
    "\n",
    "print(\"Mediana: %d \" % vel_internet.median())\n",
    "print(\"Quartil: %d \" % vel_internet.quantile(q=0.25))\n",
    "\n",
    "percentil = np.percentile(vel_internet,16)\n",
    "print(\"Percentil: %2.f \" % percentil)\n",
    "\n",
    "# ORDENADAS\n",
    "# CALCULAS VARIANCIA, DESVIO PADRAO\n",
    "\n",
    "soma = sum(data)\n",
    "maximo = max(data)\n",
    "minimo = min(data)\n",
    "amplitude = maximo - minimo\n",
    "\n",
    "print(\"Soma: \", soma)\n",
    "print(\"Mínimo: \", minimo)\n",
    "print(\"Máximo: \", maximo)\n",
    "print(\"Amplitude: \", amplitude)\n",
    "\n",
    "# # media, moda, amplitude, variancia, desvio padrão, coeficiente de variação\n",
    "\n",
    "print()\n",
    "tabela_frequencia = Counter(data).most_common(len(data))\n",
    "print(tabela_frequencia)\n",
    "\n",
    "# lista = sorted(data)\n",
    "\n",
    "# MATPLOTLIB: Histograma (univariado)\n",
    "#vel_internet = pd.Series(data) # Transformanda os dados em um serie\n",
    "vel_internet.hist()\n",
    "plt.show()\n"
   ]
  },
  {
   "cell_type": "markdown",
   "metadata": {},
   "source": [
    "### Media\n",
    "A média indica o valor onde estão concetrados os dados de um conjuto de valores, representando um valor\n",
    "significativo para o mesmo."
   ]
  },
  {
   "cell_type": "code",
   "execution_count": 13,
   "metadata": {},
   "outputs": [
    {
     "name": "stdout",
     "output_type": "stream",
     "text": [
      "Média:  3.9965\n"
     ]
    }
   ],
   "source": [
    "print(\"Média: \", vel_internet.mean())"
   ]
  },
  {
   "cell_type": "markdown",
   "metadata": {},
   "source": [
    "### Moda\n",
    "A moda é o valor que mais se repete dentro de um conjunto"
   ]
  },
  {
   "cell_type": "code",
   "execution_count": 17,
   "metadata": {},
   "outputs": [
    {
     "name": "stdout",
     "output_type": "stream",
     "text": [
      "Moda: 0    2.32\n",
      "1    2.90\n",
      "dtype: float64 \n"
     ]
    }
   ],
   "source": [
    "print(\"Moda: %s \" % vel_internet.mode())"
   ]
  },
  {
   "cell_type": "markdown",
   "metadata": {},
   "source": [
    "### Mediana\n",
    "A media é o valor central de um conjunto, ou seja, ela separa a metade superior da metade inferior de uma distribuição"
   ]
  },
  {
   "cell_type": "code",
   "execution_count": 18,
   "metadata": {},
   "outputs": [
    {
     "name": "stdout",
     "output_type": "stream",
     "text": [
      "Mediana: 4 \n"
     ]
    }
   ],
   "source": [
    "#qnt_filhos_ord = sorted(qnt_filhos)\n",
    "#centro = tam/2 \n",
    "#mediana = qnt_filhos_ord[int(centro)] # centro = 8\n",
    "#print(\"Mediana: %d \" % mediana)\n",
    "\n",
    "print(\"Mediana: %d \" % vel_internet.median())"
   ]
  },
  {
   "cell_type": "markdown",
   "metadata": {},
   "source": [
    "### Quartil"
   ]
  },
  {
   "cell_type": "code",
   "execution_count": 19,
   "metadata": {},
   "outputs": [
    {
     "name": "stdout",
     "output_type": "stream",
     "text": [
      "Quartil: 2 \n"
     ]
    }
   ],
   "source": [
    "print(\"Quartil: %d \" % vel_internet.quantile(q=0.25)) #Primeiro quartil"
   ]
  },
  {
   "cell_type": "markdown",
   "metadata": {},
   "source": [
    "### Percentil"
   ]
  },
  {
   "cell_type": "code",
   "execution_count": 21,
   "metadata": {},
   "outputs": [
    {
     "name": "stdout",
     "output_type": "stream",
     "text": [
      "Percentil:  2 \n"
     ]
    }
   ],
   "source": [
    "percentil = np.percentile(vel_internet,16)\n",
    "print(\"Percentil: %2.f \" % percentil)"
   ]
  },
  {
   "cell_type": "markdown",
   "metadata": {},
   "source": [
    "## Medidas de dispersão\n",
    "São medidas que indicam o quão espalhados estão os dados, ou sua variação. São elas: Amplitude, variância, desvio padrão e desvio absoluto"
   ]
  },
  {
   "cell_type": "code",
   "execution_count": 10,
   "metadata": {},
   "outputs": [
    {
     "name": "stdout",
     "output_type": "stream",
     "text": [
      "[0, 0, 0, 0, 1, 1, 1, 1, 1, 2, 2, 2, 3, 3, 5, 5, 5, 7, 8, 9]\n",
      "----------------------------------------\n",
      "Média:  2.8\n",
      "Desvio padrão: 2.78 \n",
      "Moda: 1\n",
      "Mediana: 2\n",
      "Q1: 1\n",
      "Q3: 5\n"
     ]
    }
   ],
   "source": [
    "qnt_acidentes = pd.Series([3,5,0,2,3,5,9,0,2,1,1,0,1,8,5,1,1,7,2,0])\n",
    "print(sorted(qnt_acidentes))\n",
    "\n",
    "# Descrição rapida dos dados\n",
    "# count = Quantidade de dados\n",
    "# mean = Média\n",
    "# sdt = Desvio Padrão\n",
    "# min = Valor Minimo\n",
    "# 25% = 1° Quartil\n",
    "# 50% = 1° Quartil\n",
    "# 75% = 1° Quartil\n",
    "# max = Valor máximo\n",
    "#print(qnt_acidentes.describe())\n",
    "\n",
    "print(\"----------------------------------------\")\n",
    "media = qnt_acidentes.mean()\n",
    "print(\"Média: \", media )\n",
    "print(\"Desvio padrão: %.2f \" % qnt_acidentes.std())\n",
    "print(\"Moda: %d\" % qnt_acidentes.mode())\n",
    "print(\"Mediana: %d\" % qnt_acidentes.median())\n",
    "print(\"Q1: %d\" % qnt_acidentes.quantile(q=0.25))\n",
    "print(\"Q3: %d\" % qnt_acidentes.quantile(q=0.75))\n",
    "\n",
    "percentil = np.percentile(qnt_acidentes, 73)\n",
    "\n",
    "# print(\"Percentil 73: \", percentil ) # VER ISSO"
   ]
  },
  {
   "cell_type": "code",
   "execution_count": 3,
   "metadata": {},
   "outputs": [
    {
     "name": "stdout",
     "output_type": "stream",
     "text": [
      "0.0592\n"
     ]
    }
   ],
   "source": [
    "print(((16/100)*0.37))"
   ]
  },
  {
   "cell_type": "markdown",
   "metadata": {},
   "source": [
    "### Amplitude\n",
    "#### A = maximo - minimo\n",
    "A amplitude é a diferença entre o maior e menor valor de um conjunto de dados."
   ]
  },
  {
   "cell_type": "code",
   "execution_count": 12,
   "metadata": {},
   "outputs": [
    {
     "name": "stdout",
     "output_type": "stream",
     "text": [
      "Máximo: 9 Mínimo: 0\n",
      "Amplitude: 9 \n"
     ]
    }
   ],
   "source": [
    "minimo = qnt_acidentes.min()\n",
    "maximo = qnt_acidentes.max()\n",
    "\n",
    "print(\"Máximo: %d Mínimo: %d\" % (maximo, minimo) )\n",
    "print(\"Amplitude: %d \" % (maximo - minimo))"
   ]
  },
  {
   "cell_type": "markdown",
   "metadata": {},
   "source": [
    "### Variancia \n",
    "#### (S²) - Amostral\n",
    "#### (O²) - Populacional\n",
    "A variância indica quanto os dados de um conjunto estão afastados de seu valor esperado."
   ]
  },
  {
   "cell_type": "code",
   "execution_count": 13,
   "metadata": {},
   "outputs": [
    {
     "name": "stdout",
     "output_type": "stream",
     "text": [
      "Variância: 7.747368421052631 \n"
     ]
    }
   ],
   "source": [
    "print(\"Variância: %s \" % qnt_acidentes.var())"
   ]
  },
  {
   "cell_type": "markdown",
   "metadata": {},
   "source": [
    "### Mediana da tabela\n",
    "\n",
    "m/2 = 40/2 = 20º e 21º\n",
    "\n",
    "Essas posições estão respectivamente na 4º e 5º classes\n",
    "\n",
    "#### hi = Li - li \n",
    "-> hi - 4 - 3 = 1\n",
    "\n",
    "h- = Amplitude da classe i\n",
    "Li = Limite superior na classe i\n",
    "li = Limite inferior da classe i\n",
    "\n",
    "\n",
    "hi/li = 1/5 = 0,2\n",
    "\n",
    "#### PMQ - FANT \n",
    "-> 20 - 15 = 5\n",
    "\n",
    "Pmq = Posição da mediana\n",
    "Fant = Frequência acumulada anterior\n",
    "\n",
    "### Para a posição 21º\n",
    "MQ = lit(0,2) * 5 \n",
    "-> 3 + 1 = 4\n",
    "    \n",
    "#### MQ = li + hi *(PMQ - Fant) / hi\n",
    "\n",
    "### Para a posição 21º\n",
    "MQ = 4 + 1 * (21 -20) / 3\n",
    "MQ = 4 + 1 * 1 / 3\n",
    "MQ = 4 + 1 / 3\n",
    "\n",
    "= 4,33\n",
    "\n",
    "\n",
    "### Quartil - Divide em quatro partes iguais\n",
    "\n",
    "\n",
    "m/4 = 40/4 = 10º posição(q1)\n",
    "\n",
    "esta na classe 3º posição\n",
    "\n",
    "#### 1º Quartil = q1 = li + hi(Pq1 - Fant)/li\n",
    "2 + 1*(10-7)/8\n",
    "\n",
    "2+3/8 = 2,38\n",
    "\n",
    "#### 3º Quartil = q3 = li + hi(Pq3 - Fant)/li\n",
    "5 + 1 * (30 -23)/13\n",
    "5 + 7/13\n",
    "= 5,54\n",
    "\n",
    "\n",
    "### Percentil\n",
    "p72\n",
    "#### m / 100\n",
    "40/100 = 0,4 * 72 = 28,8 POSIÇÃO\n",
    "está na 6º classe da tabela\n",
    "\n",
    "p72 = li + hi(Pq - Fant)/fi\n",
    "\n",
    "= 5 + 1*(28,8 - 23)/13\n",
    "= 5+ 5,8/13 = 5,45"
   ]
  },
  {
   "cell_type": "code",
   "execution_count": null,
   "metadata": {},
   "outputs": [],
   "source": []
  }
 ],
 "metadata": {
  "kernelspec": {
   "display_name": "Python 3",
   "language": "python",
   "name": "python3"
  },
  "language_info": {
   "codemirror_mode": {
    "name": "ipython",
    "version": 3
   },
   "file_extension": ".py",
   "mimetype": "text/x-python",
   "name": "python",
   "nbconvert_exporter": "python",
   "pygments_lexer": "ipython3",
   "version": "3.5.2"
  }
 },
 "nbformat": 4,
 "nbformat_minor": 2
}
