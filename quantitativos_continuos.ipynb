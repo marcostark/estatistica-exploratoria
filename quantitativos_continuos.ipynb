{
 "cells": [
  {
   "cell_type": "markdown",
   "metadata": {},
   "source": [
    "# DADOS QUANTITATIVOS DISCRETOS"
   ]
  },
  {
   "cell_type": "code",
   "execution_count": 51,
   "metadata": {},
   "outputs": [
    {
     "data": {
      "text/html": [
       "<div>\n",
       "<style scoped>\n",
       "    .dataframe tbody tr th:only-of-type {\n",
       "        vertical-align: middle;\n",
       "    }\n",
       "\n",
       "    .dataframe tbody tr th {\n",
       "        vertical-align: top;\n",
       "    }\n",
       "\n",
       "    .dataframe thead th {\n",
       "        text-align: right;\n",
       "    }\n",
       "</style>\n",
       "<table border=\"1\" class=\"dataframe\">\n",
       "  <thead>\n",
       "    <tr style=\"text-align: right;\">\n",
       "      <th></th>\n",
       "      <th>Classes</th>\n",
       "      <th>F</th>\n",
       "      <th>FA</th>\n",
       "      <th>FR %</th>\n",
       "      <th>FRA %</th>\n",
       "      <th>XI</th>\n",
       "      <th>F.XI</th>\n",
       "      <th>XI2</th>\n",
       "      <th>F.XI2</th>\n",
       "      <th>XI.LI</th>\n",
       "    </tr>\n",
       "  </thead>\n",
       "  <tbody>\n",
       "    <tr>\n",
       "      <th>0</th>\n",
       "      <td>(0.63, 1.44]</td>\n",
       "      <td>4</td>\n",
       "      <td>4</td>\n",
       "      <td>0.102564</td>\n",
       "      <td>0.102564</td>\n",
       "      <td>1.035</td>\n",
       "      <td>1.035</td>\n",
       "      <td>1.071225</td>\n",
       "      <td>1.071225</td>\n",
       "      <td>4.140</td>\n",
       "    </tr>\n",
       "    <tr>\n",
       "      <th>1</th>\n",
       "      <td>(1.44, 2.25]</td>\n",
       "      <td>4</td>\n",
       "      <td>8</td>\n",
       "      <td>0.102564</td>\n",
       "      <td>0.205128</td>\n",
       "      <td>1.845</td>\n",
       "      <td>2.880</td>\n",
       "      <td>3.404025</td>\n",
       "      <td>4.475250</td>\n",
       "      <td>7.380</td>\n",
       "    </tr>\n",
       "    <tr>\n",
       "      <th>2</th>\n",
       "      <td>(2.25, 3.06]</td>\n",
       "      <td>6</td>\n",
       "      <td>14</td>\n",
       "      <td>0.153846</td>\n",
       "      <td>0.358974</td>\n",
       "      <td>2.655</td>\n",
       "      <td>5.535</td>\n",
       "      <td>7.049025</td>\n",
       "      <td>11.524275</td>\n",
       "      <td>15.930</td>\n",
       "    </tr>\n",
       "    <tr>\n",
       "      <th>3</th>\n",
       "      <td>(3.06, 3.87]</td>\n",
       "      <td>4</td>\n",
       "      <td>18</td>\n",
       "      <td>0.102564</td>\n",
       "      <td>0.461538</td>\n",
       "      <td>3.465</td>\n",
       "      <td>9.000</td>\n",
       "      <td>12.006225</td>\n",
       "      <td>23.530500</td>\n",
       "      <td>13.860</td>\n",
       "    </tr>\n",
       "    <tr>\n",
       "      <th>4</th>\n",
       "      <td>(3.87, 4.68]</td>\n",
       "      <td>3</td>\n",
       "      <td>21</td>\n",
       "      <td>0.076923</td>\n",
       "      <td>0.538462</td>\n",
       "      <td>4.275</td>\n",
       "      <td>13.275</td>\n",
       "      <td>18.275625</td>\n",
       "      <td>41.806125</td>\n",
       "      <td>12.825</td>\n",
       "    </tr>\n",
       "    <tr>\n",
       "      <th>5</th>\n",
       "      <td>(4.68, 5.49]</td>\n",
       "      <td>2</td>\n",
       "      <td>23</td>\n",
       "      <td>0.051282</td>\n",
       "      <td>0.589744</td>\n",
       "      <td>5.085</td>\n",
       "      <td>18.360</td>\n",
       "      <td>25.857225</td>\n",
       "      <td>67.663350</td>\n",
       "      <td>10.170</td>\n",
       "    </tr>\n",
       "    <tr>\n",
       "      <th>6</th>\n",
       "      <td>(5.49, 6.3]</td>\n",
       "      <td>16</td>\n",
       "      <td>39</td>\n",
       "      <td>0.410256</td>\n",
       "      <td>1.000000</td>\n",
       "      <td>5.895</td>\n",
       "      <td>24.255</td>\n",
       "      <td>34.751025</td>\n",
       "      <td>102.414375</td>\n",
       "      <td>94.320</td>\n",
       "    </tr>\n",
       "  </tbody>\n",
       "</table>\n",
       "</div>"
      ],
      "text/plain": [
       "        Classes   F  FA      FR %     FRA %     XI    F.XI        XI2  \\\n",
       "0  (0.63, 1.44]   4   4  0.102564  0.102564  1.035   1.035   1.071225   \n",
       "1  (1.44, 2.25]   4   8  0.102564  0.205128  1.845   2.880   3.404025   \n",
       "2  (2.25, 3.06]   6  14  0.153846  0.358974  2.655   5.535   7.049025   \n",
       "3  (3.06, 3.87]   4  18  0.102564  0.461538  3.465   9.000  12.006225   \n",
       "4  (3.87, 4.68]   3  21  0.076923  0.538462  4.275  13.275  18.275625   \n",
       "5  (4.68, 5.49]   2  23  0.051282  0.589744  5.085  18.360  25.857225   \n",
       "6   (5.49, 6.3]  16  39  0.410256  1.000000  5.895  24.255  34.751025   \n",
       "\n",
       "        F.XI2   XI.LI  \n",
       "0    1.071225   4.140  \n",
       "1    4.475250   7.380  \n",
       "2   11.524275  15.930  \n",
       "3   23.530500  13.860  \n",
       "4   41.806125  12.825  \n",
       "5   67.663350  10.170  \n",
       "6  102.414375  94.320  "
      ]
     },
     "execution_count": 51,
     "metadata": {},
     "output_type": "execute_result"
    }
   ],
   "source": [
    "#%matplotlib inline\n",
    "from pandas.tools.plotting import scatter_matrix\n",
    "from collections import Counter\n",
    "import matplotlib.pyplot as plt\n",
    "import pandas as pd\n",
    "import numpy as np\n",
    "import math\n",
    "\n",
    "dataset = [\n",
    "    1.42, 2.70, 5.67, 5.83, 5.74, 1.56, 2.32, 2.14, 0.63, 2.99, \n",
    "    1.03, 2.12, 6.01, 5.84, 5.91, 5.80, 5.54, 5.99, 2.90, 2.90, \n",
    "    5.92, 5.96, 5.73, 4.92, 6.18, 4.38, 6.29, 3.38, 3.78, 6.04, \n",
    "    3.90, 5.57, 1.47, 3.21, 2.32, 4.57, 0.98, 5.43, 1.11, 3.68\n",
    "    ]\n",
    "\n",
    "#dataset = pd.read_csv('dataset/cotacao_dolar.csv')\n",
    "\n",
    "# Usando pandas para criar a series de numeros\n",
    "#data = dataset['cotacao']\n",
    "ordenados = sorted(dataset)\n",
    "data = pd.Series(ordenados)\n",
    "#print(data)\n",
    "\n",
    "# Montando a tabela de distribuição de frequência\n",
    "\n",
    "#math.ceil arrendonda arredonda para o número inteiro mais próximo em direção ao infinito positivo\n",
    "tamanho = len(dataset)\n",
    "#valor_minimo = min(dataset)\n",
    "qnt_classe = math.ceil(math.sqrt(tamanho))\n",
    "\n",
    "amplitude = data.max() - data.min()\n",
    "intervalo = round(amplitude / qnt_classe,2)\n",
    "\n",
    "# Intervalos\n",
    "inicial = data.min()\n",
    "#print(inicial)\n",
    "#print(intervalo)\n",
    "s = valor_minimo\n",
    "\n",
    "#Meu Proprio intervalo para recorte dos dados\n",
    "intervalos = []\n",
    "for i in range(qnt_classe + 1):\n",
    "    intervalos.append(inicial)\n",
    "    inicial+= intervalo\n",
    "\n",
    "#print(intervalos)\n",
    "\n",
    "#Ordenando dados\n",
    "ordenados = sorted(dataset)\n",
    "df = pd.DataFrame(ordenados,columns=['Classes'])\n",
    "\n",
    "factor = pd.cut(df.Classes,intervalos)\n",
    "factor\n",
    "frequencia = pd.value_counts(factor)\n",
    "\n",
    "#Agrupando dados para contagem\n",
    "frequencia = df.groupby(factor)['Classes'].agg(['count'])\n",
    "\n",
    "# Salvando tabela inicial\n",
    "frequencia.to_csv('dataset_gerados/tabela_teste.csv')\n",
    "reclamacoes_df = pd.read_csv('dataset_gerados/tabela_teste.csv')\n",
    "\n",
    "# Calculando a frequencia acumulada\n",
    "frequencia = reclamacoes_df['count']\n",
    "freq_acumulada = []\n",
    "fa = 0\n",
    "for i in range(0,len(frequencia)):\n",
    "    fa += frequencia[i]\n",
    "    freq_acumulada.append(fa);    \n",
    "\n",
    "reclamacoes_df.rename(columns={'count':'F'}, inplace=True)\n",
    "reclamacoes_df['FA'] = freq_acumulada\n",
    "#print(reclamacoes_df)\n",
    "#print()\n",
    "\n",
    "# Calcular a frequencia relativa\n",
    "total = sum(frequencia)\n",
    "reclamacoes_df['FR %'] = reclamacoes_df['F'] / total\n",
    "#print(reclamacoes_df)\n",
    "#print()\n",
    "\n",
    "#Calcular a frequencia relativa acumulada\n",
    "frequencia = reclamacoes_df['FR %']\n",
    "freq_relativa_acumulada = []\n",
    "fra = 0\n",
    "for i in range(0,len(frequencia)):\n",
    "    fra += frequencia[i]\n",
    "    freq_relativa_acumulada.append(fra);    \n",
    "\n",
    "reclamacoes_df['FRA %'] = freq_relativa_acumulada\n",
    "\n",
    "\n",
    "# Ponto médio\n",
    "xi = []\n",
    "s = 0\n",
    "for i in range(qnt_classe):\n",
    "    xi.append(intervalos[i])\n",
    "\n",
    "reclamacoes_df['XI'] = xi + (intervalo / 2)\n",
    "#print(reclamacoes_df)\n",
    "#print()\n",
    "\n",
    "# Frequencia acumulada do ponto médio\n",
    "frequencia = reclamacoes_df['XI']\n",
    "freq_ponto_medio = []\n",
    "fxi = 0\n",
    "for i in range(0,len(frequencia)):\n",
    "    fxi += frequencia[i]\n",
    "    freq_ponto_medio.append(fxi);    \n",
    "\n",
    "reclamacoes_df['F.XI'] = freq_ponto_medio\n",
    "#print(reclamacoes_df)\n",
    "#print()\n",
    "\n",
    "# Ponto Médio ao quadrado\n",
    "reclamacoes_df['XI2'] = reclamacoes_df['XI'] ** 2 \n",
    "# print(reclamacoes_df)\n",
    "# print()\n",
    "\n",
    "# Frequencia do Ponto Médio ao quadrado\n",
    "frequencia = reclamacoes_df['XI2']\n",
    "freq_ponto_medio_quadrado = []\n",
    "fxi2 = 0\n",
    "for i in range(0,len(frequencia)):\n",
    "    fxi2 += frequencia[i]\n",
    "    freq_ponto_medio_quadrado.append(fxi2); \n",
    "reclamacoes_df['F.XI2'] = freq_ponto_medio_quadrado\n",
    "\n",
    "# XI.LI\n",
    "reclamacoes_df['XI.LI'] = reclamacoes_df['XI'] * reclamacoes_df['F']\n",
    "\n",
    "new_df = pd.DataFrame(reclamacoes_df)\n",
    "\n",
    "# import seaborn as sns\n",
    "# sns.set(style=\"white\")\n",
    "# sns.set(style=\"whitegrid\", color_codes=True)\n",
    "\n",
    "# reclamacoes_df['F'].value_counts().plot(kind=\"bar\")\n",
    "# plt.show()\n",
    "\n",
    "# Salvando tabela inicial\n",
    "new_df.to_csv('dataset_gerados/tabela_teste.csv',index=False)\n",
    "df = pd.read_csv('dataset_gerados/tabela_teste.csv')\n",
    "df"
   ]
  },
  {
   "cell_type": "code",
   "execution_count": null,
   "metadata": {},
   "outputs": [],
   "source": []
  },
  {
   "cell_type": "code",
   "execution_count": 33,
   "metadata": {},
   "outputs": [
    {
     "name": "stdout",
     "output_type": "stream",
     "text": [
      "(1.44, 2.25]\n"
     ]
    }
   ],
   "source": [
    "# Calcular o xi\n",
    "\n",
    "ponto_medio = reclamacoes_df['Classes']\n",
    "print(ponto_medio[1])"
   ]
  },
  {
   "cell_type": "markdown",
   "metadata": {},
   "source": [
    "### Usando os recursos da linguagem"
   ]
  },
  {
   "cell_type": "code",
   "execution_count": 134,
   "metadata": {},
   "outputs": [
    {
     "name": "stdout",
     "output_type": "stream",
     "text": [
      "Média: 4.00 \n",
      "Mediana: 4.14 \n",
      "Quartil: 2.32 \n",
      "Percentil: 1.69 \n",
      "Amplitude:  6 \n",
      "Variancia: 3.484982\n",
      "Desvio Padrão: 1.866811 \n",
      "Coeficiente de Variação: \n"
     ]
    }
   ],
   "source": [
    "# amplitude, variancia, desvio padrão, coeficiente de variação\n",
    "\n",
    "print(\"Média: %.2f \" % data.mean())\n",
    "#print(\"Moda: %s \" % t.mode())\n",
    "\n",
    "print(\"Mediana: %.2f \" % data.median())\n",
    "print(\"Quartil: %.2f \" % data.quantile(q=0.25))\n",
    "\n",
    "percentil = np.percentile(data,16)\n",
    "print(\"Percentil: %.2f \" % percentil)\n",
    "\n",
    "soma = sum(data)\n",
    "maximo = max(data)\n",
    "minimo = min(data)\n",
    "amplitude = maximo - minimo\n",
    "\n",
    "print(\"Amplitude: %2.f \" % amplitude)\n",
    "print(\"Variancia: %f\" % data.var())\n",
    "print(\"Desvio Padrão: %f \" % data.std())\n",
    "print(\"Coeficiente de Variação: \")\n",
    "\n",
    "# print()\n",
    "# tabela_frequencia = Counter(data).most_common(len(data))\n",
    "# print(tabela_frequencia)\n",
    "\n",
    "# lista = sorted(data)\n",
    "\n",
    "# MATPLOTLIB: Histograma (univariado)\n",
    "#vel_internet = pd.Series(data) # Transformanda os dados em um serie\n",
    "# vel_internet.hist()\n",
    "# plt.show()\n"
   ]
  },
  {
   "cell_type": "markdown",
   "metadata": {},
   "source": [
    "### Media\n",
    "A média indica o valor onde estão concetrados os dados de um conjuto de valores, representando um valor\n",
    "significativo para o mesmo."
   ]
  },
  {
   "cell_type": "code",
   "execution_count": 2,
   "metadata": {},
   "outputs": [
    {
     "name": "stdout",
     "output_type": "stream",
     "text": [
      "Média:  3.9965\n"
     ]
    }
   ],
   "source": [
    "print(\"Média: \", data.mean())"
   ]
  },
  {
   "cell_type": "markdown",
   "metadata": {},
   "source": [
    "### Moda\n",
    "A moda é o valor que mais se repete dentro de um conjunto"
   ]
  },
  {
   "cell_type": "code",
   "execution_count": 17,
   "metadata": {},
   "outputs": [
    {
     "name": "stdout",
     "output_type": "stream",
     "text": [
      "Moda: 0    2.32\n",
      "1    2.90\n",
      "dtype: float64 \n"
     ]
    }
   ],
   "source": [
    "#print(\"Moda: %s \" % vel_internet.mode())"
   ]
  },
  {
   "cell_type": "markdown",
   "metadata": {},
   "source": [
    "### Mediana\n",
    "A media é o valor central de um conjunto, ou seja, ela separa a metade superior da metade inferior de uma distribuição"
   ]
  },
  {
   "cell_type": "code",
   "execution_count": 18,
   "metadata": {},
   "outputs": [
    {
     "name": "stdout",
     "output_type": "stream",
     "text": [
      "Mediana: 4 \n"
     ]
    }
   ],
   "source": [
    "#qnt_filhos_ord = sorted(qnt_filhos)\n",
    "#centro = tam/2 \n",
    "#mediana = qnt_filhos_ord[int(centro)] # centro = 8\n",
    "#print(\"Mediana: %d \" % mediana)\n",
    "\n",
    "#print(\"Mediana: %d \" % vel_internet.median())"
   ]
  },
  {
   "cell_type": "markdown",
   "metadata": {},
   "source": [
    "### Quartil"
   ]
  },
  {
   "cell_type": "code",
   "execution_count": 19,
   "metadata": {},
   "outputs": [
    {
     "name": "stdout",
     "output_type": "stream",
     "text": [
      "Quartil: 2 \n"
     ]
    }
   ],
   "source": [
    "#print(\"Quartil: %d \" % vel_internet.quantile(q=0.25)) #Primeiro quartil"
   ]
  },
  {
   "cell_type": "markdown",
   "metadata": {},
   "source": [
    "### Percentil"
   ]
  },
  {
   "cell_type": "code",
   "execution_count": 21,
   "metadata": {},
   "outputs": [
    {
     "name": "stdout",
     "output_type": "stream",
     "text": [
      "Percentil:  2 \n"
     ]
    }
   ],
   "source": [
    "percentil = np.percentile(vel_internet,16)\n",
    "#print(\"Percentil: %2.f \" % percentil)"
   ]
  },
  {
   "cell_type": "markdown",
   "metadata": {},
   "source": [
    "## Medidas de dispersão\n",
    "São medidas que indicam o quão espalhados estão os dados, ou sua variação. São elas: Amplitude, variância, desvio padrão e desvio absoluto"
   ]
  },
  {
   "cell_type": "code",
   "execution_count": 67,
   "metadata": {},
   "outputs": [],
   "source": [
    "qnt_acidentes = pd.Series([3,5,0,2,3,5,9,0,2,1,1,0,1,8,5,1,1,7,2,0])\n",
    "\n",
    "dataset1 = [4,9,2,8,0,6,1,8,7,0,\n",
    "           4,3,8,9,8,6,2,9,9,3,\n",
    "           3,3,8,5,0,9,7,3,4,0,\n",
    "           7,0\n",
    "          ]\n",
    "\n",
    "dataset2 = [5,4,3,6,2,2,7]\n",
    "\n",
    "data1 = pd.Series(dataset1)\n",
    "data2 = pd.Series(dataset2)\n",
    "\n",
    "\n",
    "#print(sorted(qnt_acidentes))\n",
    "\n",
    "# Descrição rapida dos dados\n",
    "# count = Quantidade de dados\n",
    "# mean = Média\n",
    "# sdt = Desvio Padrão\n",
    "# min = Valor Minimo\n",
    "# 25% = 1° Quartil\n",
    "# 50% = 1° Quartil\n",
    "# 75% = 1° Quartil\n",
    "# max = Valor máximo\n",
    "#print(qnt_acidentes.describe())\n",
    "#percentil = np.percentile(qnt_acidentes, 73)\n",
    "# print(\"Percentil 73: \", percentil ) # VER ISSO"
   ]
  },
  {
   "cell_type": "code",
   "execution_count": 3,
   "metadata": {},
   "outputs": [
    {
     "name": "stdout",
     "output_type": "stream",
     "text": [
      "0.0592\n"
     ]
    }
   ],
   "source": [
    "print(((16/100)*0.37))"
   ]
  },
  {
   "cell_type": "markdown",
   "metadata": {},
   "source": [
    "### Amplitude\n",
    "#### A = maximo - minimo\n",
    "A amplitude é a diferença entre o maior e menor valor de um conjunto de dados."
   ]
  },
  {
   "cell_type": "code",
   "execution_count": 12,
   "metadata": {},
   "outputs": [
    {
     "name": "stdout",
     "output_type": "stream",
     "text": [
      "Máximo: 9 Mínimo: 0\n",
      "Amplitude: 9 \n"
     ]
    }
   ],
   "source": [
    "minimo = qnt_acidentes.min()\n",
    "maximo = qnt_acidentes.max()\n",
    "\n",
    "print(\"Máximo: %d Mínimo: %d\" % (maximo, minimo) )\n",
    "print(\"Amplitude: %d \" % (maximo - minimo))"
   ]
  },
  {
   "cell_type": "markdown",
   "metadata": {},
   "source": [
    "### Variancia \n",
    "#### (S²) - Amostral\n",
    "#### (O²) - Populacional\n",
    "A variância indica quanto os dados de um conjunto estão afastados de seu valor esperado."
   ]
  },
  {
   "cell_type": "code",
   "execution_count": 9,
   "metadata": {},
   "outputs": [
    {
     "name": "stdout",
     "output_type": "stream",
     "text": [
      "774.7948\n",
      "Variancia Amostral:  3.484982307692305\n"
     ]
    }
   ],
   "source": [
    "import math\n",
    "\n",
    "# Variancia Populacional\n",
    "def varianciaPopulacional(data):\n",
    "    tamanho = len(data)\n",
    "    media = data.mean()\n",
    "    soma = 0\n",
    "    \n",
    "    for valor in data:\n",
    "        soma += math.pow( (valor - media ), 2)\n",
    "     \n",
    "    return soma / float(tamanho)\n",
    "\n",
    "\n",
    "# Variancia Amostral\n",
    "def varianciaAmostral(data):\n",
    "    tamanho = len(data)\n",
    "    somaDados = sum(data)\n",
    "\n",
    "    soma1 = 0\n",
    "    soma2 = (math.pow(somaDados, 2)) / tamanho\n",
    "    \n",
    "    for valor in dataset:\n",
    "        soma1 += math.pow((valor),2)\n",
    "        \n",
    "    return (soma1 - soma2) / float((tamanho - 1))\n",
    "    \n",
    "#print(\"Variancia Populacional: \", varianciaPopulacional(data1))\n",
    "print(\"Variancia Amostral: \", varianciaAmostral(data1)) # 4,75\n"
   ]
  },
  {
   "cell_type": "markdown",
   "metadata": {},
   "source": [
    "### Desvio Padrão\n",
    "É a raiz quadrada da variância"
   ]
  },
  {
   "cell_type": "code",
   "execution_count": 83,
   "metadata": {},
   "outputs": [
    {
     "name": "stdout",
     "output_type": "stream",
     "text": [
      "Desvio padrão Amostral:  3.163358332136908\n",
      "Desvio padrão Populacional:  1.9518001458970666\n"
     ]
    }
   ],
   "source": [
    "def desvioPadrao(data):\n",
    "    return math.sqrt(data)\n",
    "\n",
    "print(\"Desvio padrão Amostral: \", desvioPadrao(varianciaPopulacional(data1)))\n",
    "print(\"Desvio padrão Populacional: \", desvioPadrao(varianciaAmostral(data2)))"
   ]
  },
  {
   "cell_type": "markdown",
   "metadata": {},
   "source": [
    "### Coeficiente de Variação"
   ]
  },
  {
   "cell_type": "code",
   "execution_count": 85,
   "metadata": {},
   "outputs": [
    {
     "name": "stdout",
     "output_type": "stream",
     "text": [
      "Populacional:  66.35303802690034\n",
      "Amostral:  47.11241731475677\n"
     ]
    }
   ],
   "source": [
    "print(\"Populacional: \", (data1.std()/data1.mean())*100)\n",
    "print(\"Amostral: \", (data2.std()/data2.mean())*100)"
   ]
  },
  {
   "cell_type": "markdown",
   "metadata": {},
   "source": [
    "### Mediana da tabela\n",
    "\n",
    "m/2 = 40/2 = 20º e 21º\n",
    "\n",
    "Essas posições estão respectivamente na 4º e 5º classes\n",
    "\n",
    "#### hi = Li - li \n",
    "-> hi - 4 - 3 = 1\n",
    "\n",
    "h- = Amplitude da classe i\n",
    "Li = Limite superior na classe i\n",
    "li = Limite inferior da classe i\n",
    "\n",
    "\n",
    "hi/li = 1/5 = 0,2\n",
    "\n",
    "#### PMQ - FANT \n",
    "-> 20 - 15 = 5\n",
    "\n",
    "Pmq = Posição da mediana\n",
    "Fant = Frequência acumulada anterior\n",
    "\n",
    "### Para a posição 21º\n",
    "MQ = lit(0,2) * 5 \n",
    "-> 3 + 1 = 4\n",
    "    \n",
    "#### MQ = li + hi *(PMQ - Fant) / hi\n",
    "\n",
    "### Para a posição 21º\n",
    "MQ = 4 + 1 * (21 -20) / 3\n",
    "MQ = 4 + 1 * 1 / 3\n",
    "MQ = 4 + 1 / 3\n",
    "\n",
    "= 4,33\n",
    "\n",
    "\n",
    "### Quartil - Divide em quatro partes iguais\n",
    "\n",
    "\n",
    "m/4 = 40/4 = 10º posição(q1)\n",
    "\n",
    "esta na classe 3º posição\n",
    "\n",
    "#### 1º Quartil = q1 = li + hi(Pq1 - Fant)/li\n",
    "2 + 1*(10-7)/8\n",
    "\n",
    "2+3/8 = 2,38\n",
    "\n",
    "#### 3º Quartil = q3 = li + hi(Pq3 - Fant)/li\n",
    "5 + 1 * (30 -23)/13\n",
    "5 + 7/13\n",
    "= 5,54\n",
    "\n",
    "\n",
    "### Percentil\n",
    "p72\n",
    "#### m / 100\n",
    "40/100 = 0,4 * 72 = 28,8 POSIÇÃO\n",
    "está na 6º classe da tabela\n",
    "\n",
    "p72 = li + hi(Pq - Fant)/fi\n",
    "\n",
    "= 5 + 1*(28,8 - 23)/13\n",
    "= 5+ 5,8/13 = 5,45"
   ]
  },
  {
   "cell_type": "code",
   "execution_count": null,
   "metadata": {},
   "outputs": [],
   "source": []
  }
 ],
 "metadata": {
  "kernelspec": {
   "display_name": "Python 3",
   "language": "python",
   "name": "python3"
  },
  "language_info": {
   "codemirror_mode": {
    "name": "ipython",
    "version": 3
   },
   "file_extension": ".py",
   "mimetype": "text/x-python",
   "name": "python",
   "nbconvert_exporter": "python",
   "pygments_lexer": "ipython3",
   "version": "3.5.2"
  }
 },
 "nbformat": 4,
 "nbformat_minor": 2
}
