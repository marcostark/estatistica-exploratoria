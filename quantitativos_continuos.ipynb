{
 "cells": [
  {
   "cell_type": "markdown",
   "metadata": {},
   "source": [
    "# DADOS QUANTITATIVOS DISCRETOS"
   ]
  },
  {
   "cell_type": "code",
   "execution_count": 1,
   "metadata": {},
   "outputs": [
    {
     "data": {
      "text/html": [
       "<div>\n",
       "<style scoped>\n",
       "    .dataframe tbody tr th:only-of-type {\n",
       "        vertical-align: middle;\n",
       "    }\n",
       "\n",
       "    .dataframe tbody tr th {\n",
       "        vertical-align: top;\n",
       "    }\n",
       "\n",
       "    .dataframe thead th {\n",
       "        text-align: right;\n",
       "    }\n",
       "</style>\n",
       "<table border=\"1\" class=\"dataframe\">\n",
       "  <thead>\n",
       "    <tr style=\"text-align: right;\">\n",
       "      <th></th>\n",
       "      <th>Classes</th>\n",
       "      <th>F</th>\n",
       "      <th>FA</th>\n",
       "      <th>FR %</th>\n",
       "      <th>FRA %</th>\n",
       "      <th>XI</th>\n",
       "      <th>F.XI</th>\n",
       "      <th>XI2</th>\n",
       "      <th>F.XI2</th>\n",
       "      <th>XI.LI</th>\n",
       "    </tr>\n",
       "  </thead>\n",
       "  <tbody>\n",
       "    <tr>\n",
       "      <th>0</th>\n",
       "      <td>(3.139, 3.219]</td>\n",
       "      <td>13</td>\n",
       "      <td>13</td>\n",
       "      <td>0.131313</td>\n",
       "      <td>0.131313</td>\n",
       "      <td>3.1794</td>\n",
       "      <td>3.1794</td>\n",
       "      <td>10.108584</td>\n",
       "      <td>10.108584</td>\n",
       "      <td>41.3322</td>\n",
       "    </tr>\n",
       "    <tr>\n",
       "      <th>1</th>\n",
       "      <td>(3.219, 3.299]</td>\n",
       "      <td>31</td>\n",
       "      <td>44</td>\n",
       "      <td>0.313131</td>\n",
       "      <td>0.444444</td>\n",
       "      <td>3.2594</td>\n",
       "      <td>6.4388</td>\n",
       "      <td>10.623688</td>\n",
       "      <td>20.732273</td>\n",
       "      <td>101.0414</td>\n",
       "    </tr>\n",
       "    <tr>\n",
       "      <th>2</th>\n",
       "      <td>(3.299, 3.379]</td>\n",
       "      <td>13</td>\n",
       "      <td>57</td>\n",
       "      <td>0.131313</td>\n",
       "      <td>0.575758</td>\n",
       "      <td>3.3394</td>\n",
       "      <td>9.7782</td>\n",
       "      <td>11.151592</td>\n",
       "      <td>31.883865</td>\n",
       "      <td>43.4122</td>\n",
       "    </tr>\n",
       "    <tr>\n",
       "      <th>3</th>\n",
       "      <td>(3.379, 3.459]</td>\n",
       "      <td>10</td>\n",
       "      <td>67</td>\n",
       "      <td>0.101010</td>\n",
       "      <td>0.676768</td>\n",
       "      <td>3.4194</td>\n",
       "      <td>13.1976</td>\n",
       "      <td>11.692296</td>\n",
       "      <td>43.576161</td>\n",
       "      <td>34.1940</td>\n",
       "    </tr>\n",
       "    <tr>\n",
       "      <th>4</th>\n",
       "      <td>(3.459, 3.539]</td>\n",
       "      <td>7</td>\n",
       "      <td>74</td>\n",
       "      <td>0.070707</td>\n",
       "      <td>0.747475</td>\n",
       "      <td>3.4994</td>\n",
       "      <td>16.6970</td>\n",
       "      <td>12.245800</td>\n",
       "      <td>55.821962</td>\n",
       "      <td>24.4958</td>\n",
       "    </tr>\n",
       "    <tr>\n",
       "      <th>5</th>\n",
       "      <td>(3.539, 3.619]</td>\n",
       "      <td>6</td>\n",
       "      <td>80</td>\n",
       "      <td>0.060606</td>\n",
       "      <td>0.808081</td>\n",
       "      <td>3.5794</td>\n",
       "      <td>20.2764</td>\n",
       "      <td>12.812104</td>\n",
       "      <td>68.634066</td>\n",
       "      <td>21.4764</td>\n",
       "    </tr>\n",
       "    <tr>\n",
       "      <th>6</th>\n",
       "      <td>(3.619, 3.699]</td>\n",
       "      <td>8</td>\n",
       "      <td>88</td>\n",
       "      <td>0.080808</td>\n",
       "      <td>0.888889</td>\n",
       "      <td>3.6594</td>\n",
       "      <td>23.9358</td>\n",
       "      <td>13.391208</td>\n",
       "      <td>82.025275</td>\n",
       "      <td>29.2752</td>\n",
       "    </tr>\n",
       "    <tr>\n",
       "      <th>7</th>\n",
       "      <td>(3.699, 3.779]</td>\n",
       "      <td>8</td>\n",
       "      <td>96</td>\n",
       "      <td>0.080808</td>\n",
       "      <td>0.969697</td>\n",
       "      <td>3.7394</td>\n",
       "      <td>27.6752</td>\n",
       "      <td>13.983112</td>\n",
       "      <td>96.008387</td>\n",
       "      <td>29.9152</td>\n",
       "    </tr>\n",
       "    <tr>\n",
       "      <th>8</th>\n",
       "      <td>(3.779, 3.859]</td>\n",
       "      <td>2</td>\n",
       "      <td>98</td>\n",
       "      <td>0.020202</td>\n",
       "      <td>0.989899</td>\n",
       "      <td>3.8194</td>\n",
       "      <td>31.4946</td>\n",
       "      <td>14.587816</td>\n",
       "      <td>110.596203</td>\n",
       "      <td>7.6388</td>\n",
       "    </tr>\n",
       "    <tr>\n",
       "      <th>9</th>\n",
       "      <td>(3.859, 3.939]</td>\n",
       "      <td>1</td>\n",
       "      <td>99</td>\n",
       "      <td>0.010101</td>\n",
       "      <td>1.000000</td>\n",
       "      <td>3.8994</td>\n",
       "      <td>35.3940</td>\n",
       "      <td>15.205320</td>\n",
       "      <td>125.801524</td>\n",
       "      <td>3.8994</td>\n",
       "    </tr>\n",
       "  </tbody>\n",
       "</table>\n",
       "</div>"
      ],
      "text/plain": [
       "          Classes   F  FA      FR %     FRA %      XI     F.XI        XI2  \\\n",
       "0  (3.139, 3.219]  13  13  0.131313  0.131313  3.1794   3.1794  10.108584   \n",
       "1  (3.219, 3.299]  31  44  0.313131  0.444444  3.2594   6.4388  10.623688   \n",
       "2  (3.299, 3.379]  13  57  0.131313  0.575758  3.3394   9.7782  11.151592   \n",
       "3  (3.379, 3.459]  10  67  0.101010  0.676768  3.4194  13.1976  11.692296   \n",
       "4  (3.459, 3.539]   7  74  0.070707  0.747475  3.4994  16.6970  12.245800   \n",
       "5  (3.539, 3.619]   6  80  0.060606  0.808081  3.5794  20.2764  12.812104   \n",
       "6  (3.619, 3.699]   8  88  0.080808  0.888889  3.6594  23.9358  13.391208   \n",
       "7  (3.699, 3.779]   8  96  0.080808  0.969697  3.7394  27.6752  13.983112   \n",
       "8  (3.779, 3.859]   2  98  0.020202  0.989899  3.8194  31.4946  14.587816   \n",
       "9  (3.859, 3.939]   1  99  0.010101  1.000000  3.8994  35.3940  15.205320   \n",
       "\n",
       "        F.XI2     XI.LI  \n",
       "0   10.108584   41.3322  \n",
       "1   20.732273  101.0414  \n",
       "2   31.883865   43.4122  \n",
       "3   43.576161   34.1940  \n",
       "4   55.821962   24.4958  \n",
       "5   68.634066   21.4764  \n",
       "6   82.025275   29.2752  \n",
       "7   96.008387   29.9152  \n",
       "8  110.596203    7.6388  \n",
       "9  125.801524    3.8994  "
      ]
     },
     "execution_count": 1,
     "metadata": {},
     "output_type": "execute_result"
    }
   ],
   "source": [
    "%matplotlib notebook\n",
    "\n",
    "from pandas.tools.plotting import scatter_matrix\n",
    "from collections import Counter\n",
    "import matplotlib.pyplot as plt\n",
    "import pandas as pd\n",
    "import numpy as np\n",
    "import math\n",
    "\n",
    "tabela = 'dataset/quantitativos/cotacao_dolar.csv'\n",
    "coluna = 'cotacao'\n",
    "\n",
    "dataset = pd.read_csv(tabela)\n",
    "dataset = dataset[coluna]\n",
    "#data_ordenado = data.sort_values()\n",
    "#data_ordenado\n",
    "\n",
    "# Usando pandas para criar a series de numeros\n",
    "#data = dataset['velocidade']\n",
    "ordenados = sorted(dataset)\n",
    "data = pd.Series(ordenados)\n",
    "#data\n",
    "\n",
    "# Montando a tabela de distribuição de frequência\n",
    "\n",
    "#math.ceil arrendonda arredonda para o número inteiro mais próximo em direção ao infinito positivo\n",
    "tamanho = len(data)\n",
    "valor_minimo = min(data)\n",
    "qnt_classe = math.ceil(math.sqrt(tamanho))\n",
    "\n",
    "amplitude = data.max() - data.min()\n",
    "intervalo = round(amplitude / qnt_classe,2)\n",
    "\n",
    "# Intervalos\n",
    "inicial = valor_minimo\n",
    "s = valor_minimo\n",
    "\n",
    "#Meu Proprio intervalo para recorte dos dados\n",
    "intervalos = []\n",
    "for i in range(qnt_classe + 1):\n",
    "    intervalos.append(inicial)\n",
    "    inicial+= intervalo\n",
    "\n",
    "#print(intervalos)\n",
    "\n",
    "df = pd.DataFrame(data,columns=['Classes'])\n",
    "df\n",
    "\n",
    "factor = pd.cut(df.Classes,intervalos)\n",
    "factor\n",
    "frequencia = pd.value_counts(factor)\n",
    "\n",
    "#Agrupando dados para contagem\n",
    "frequencia = df.groupby(factor)['Classes'].agg(['count'])\n",
    "\n",
    "# Salvando tabela inicial\n",
    "frequencia.to_csv('dataset_gerados/tabela_teste.csv')\n",
    "dataset_df = pd.read_csv('dataset_gerados/tabela_teste.csv')\n",
    "\n",
    "# Calculando a frequencia acumulada\n",
    "frequencia = dataset_df['count']\n",
    "freq_acumulada = []\n",
    "fa = 0\n",
    "for i in range(0,len(frequencia)):\n",
    "    fa += frequencia[i]\n",
    "    freq_acumulada.append(fa);    \n",
    "\n",
    "dataset_df.rename(columns={'count':'F'}, inplace=True)\n",
    "dataset_df['FA'] = freq_acumulada\n",
    "#dataset_df\n",
    "\n",
    "# Calcular a frequencia relativa\n",
    "total = sum(frequencia)\n",
    "dataset_df['FR %'] = dataset_df['F'] / total\n",
    "#dataset_df\n",
    "\n",
    "#Calcular a frequencia relativa acumulada\n",
    "frequencia = dataset_df['FR %']\n",
    "freq_relativa_acumulada = []\n",
    "fra = 0\n",
    "for i in range(0,len(frequencia)):\n",
    "    fra += frequencia[i]\n",
    "    freq_relativa_acumulada.append(fra);    \n",
    "\n",
    "dataset_df['FRA %'] = freq_relativa_acumulada\n",
    "\n",
    "\n",
    "# Ponto médio\n",
    "xi = []\n",
    "s = 0\n",
    "for i in range(qnt_classe):\n",
    "    xi.append(intervalos[i])\n",
    "\n",
    "dataset_df['XI'] = xi + (intervalo / 2)\n",
    "#dataset_df\n",
    "\n",
    "# Frequencia acumulada do ponto médio\n",
    "frequencia = dataset_df['XI']\n",
    "freq_ponto_medio = []\n",
    "fxi = 0\n",
    "for i in range(0,len(frequencia)):\n",
    "    fxi += frequencia[i]\n",
    "    freq_ponto_medio.append(fxi);    \n",
    "\n",
    "dataset_df['F.XI'] = freq_ponto_medio\n",
    "#dataset_df\n",
    "\n",
    "# Ponto Médio ao quadrado\n",
    "dataset_df['XI2'] = dataset_df['XI'] ** 2 \n",
    "#dataset_df\n",
    "\n",
    "# Frequencia do Ponto Médio ao quadrado\n",
    "frequencia = dataset_df['XI2']\n",
    "freq_ponto_medio_quadrado = []\n",
    "fxi2 = 0\n",
    "for i in range(0,len(frequencia)):\n",
    "    fxi2 += frequencia[i]\n",
    "    freq_ponto_medio_quadrado.append(fxi2); \n",
    "dataset_df['F.XI2'] = freq_ponto_medio_quadrado\n",
    "\n",
    "# XI.LI\n",
    "dataset_df['XI.LI'] = dataset_df['XI'] * dataset_df['F']\n",
    "\n",
    "new_df = pd.DataFrame(dataset_df)\n",
    "\n",
    "# Salvando tabela inicial\n",
    "new_df.to_csv('dataset_gerados/tabela_teste.csv',index=False)\n",
    "df = pd.read_csv('dataset_gerados/tabela_teste.csv')\n",
    "df"
   ]
  },
  {
   "cell_type": "markdown",
   "metadata": {},
   "source": [
    "# Calculos da Tabela"
   ]
  },
  {
   "cell_type": "code",
   "execution_count": null,
   "metadata": {},
   "outputs": [],
   "source": []
  },
  {
   "cell_type": "markdown",
   "metadata": {},
   "source": [
    "### Usando os recursos da linguagem"
   ]
  },
  {
   "cell_type": "code",
   "execution_count": 2,
   "metadata": {},
   "outputs": [
    {
     "name": "stdout",
     "output_type": "stream",
     "text": [
      "Média: 3.39 \n",
      "Mediana: 3.31 \n",
      "Quartil: 3.25 \n",
      "Percentil: 3.23 \n",
      "Amplitude:  1 \n",
      "Variancia: 0.037140\n",
      "Desvio Padrão: 0.192717 \n",
      "Coeficiente de Variação: \n"
     ]
    }
   ],
   "source": [
    "# amplitude, variancia, desvio padrão, coeficiente de variação\n",
    "\n",
    "print(\"Média: %.2f \" % data.mean())\n",
    "#print(\"Moda: %s \" % t.mode())\n",
    "\n",
    "print(\"Mediana: %.2f \" % data.median())\n",
    "print(\"Quartil: %.2f \" % data.quantile(q=0.25))\n",
    "\n",
    "percentil = np.percentile(data,16)\n",
    "print(\"Percentil: %.2f \" % percentil)\n",
    "\n",
    "soma = sum(data)\n",
    "maximo = max(data)\n",
    "minimo = min(data)\n",
    "amplitude = maximo - minimo\n",
    "\n",
    "print(\"Amplitude: %2.f \" % amplitude)\n",
    "print(\"Variancia: %f\" % data.var())\n",
    "print(\"Desvio Padrão: %f \" % data.std())\n",
    "print(\"Coeficiente de Variação: \")\n",
    "\n",
    "# MATPLOTLIB: Histograma (univariado)\n",
    "#vel_internet = pd.Series(data) # Transformanda os dados em um serie\n",
    "# vel_internet.hist()\n",
    "# plt.show()\n"
   ]
  },
  {
   "cell_type": "markdown",
   "metadata": {},
   "source": [
    "### Media\n",
    "A média indica o valor onde estão concetrados os dados de um conjuto de valores, representando um valor\n",
    "significativo para o mesmo."
   ]
  },
  {
   "cell_type": "code",
   "execution_count": 2,
   "metadata": {},
   "outputs": [
    {
     "name": "stdout",
     "output_type": "stream",
     "text": [
      "Média:  3.9965\n"
     ]
    }
   ],
   "source": [
    "print(\"Média: \", data.mean())"
   ]
  },
  {
   "cell_type": "markdown",
   "metadata": {},
   "source": [
    "### Moda\n",
    "A moda é o valor que mais se repete dentro de um conjunto"
   ]
  },
  {
   "cell_type": "code",
   "execution_count": 17,
   "metadata": {},
   "outputs": [
    {
     "name": "stdout",
     "output_type": "stream",
     "text": [
      "Moda: 0    2.32\n",
      "1    2.90\n",
      "dtype: float64 \n"
     ]
    }
   ],
   "source": [
    "#print(\"Moda: %s \" % vel_internet.mode())"
   ]
  },
  {
   "cell_type": "markdown",
   "metadata": {},
   "source": [
    "### Mediana\n",
    "A media é o valor central de um conjunto, ou seja, ela separa a metade superior da metade inferior de uma distribuição"
   ]
  },
  {
   "cell_type": "code",
   "execution_count": 18,
   "metadata": {},
   "outputs": [
    {
     "name": "stdout",
     "output_type": "stream",
     "text": [
      "Mediana: 4 \n"
     ]
    }
   ],
   "source": [
    "#qnt_filhos_ord = sorted(qnt_filhos)\n",
    "#centro = tam/2 \n",
    "#mediana = qnt_filhos_ord[int(centro)] # centro = 8\n",
    "#print(\"Mediana: %d \" % mediana)\n",
    "\n",
    "#print(\"Mediana: %d \" % vel_internet.median())"
   ]
  },
  {
   "cell_type": "markdown",
   "metadata": {},
   "source": [
    "### Quartil"
   ]
  },
  {
   "cell_type": "code",
   "execution_count": 19,
   "metadata": {},
   "outputs": [
    {
     "name": "stdout",
     "output_type": "stream",
     "text": [
      "Quartil: 2 \n"
     ]
    }
   ],
   "source": [
    "#print(\"Quartil: %d \" % vel_internet.quantile(q=0.25)) #Primeiro quartil"
   ]
  },
  {
   "cell_type": "markdown",
   "metadata": {},
   "source": [
    "### Percentil"
   ]
  },
  {
   "cell_type": "code",
   "execution_count": 21,
   "metadata": {},
   "outputs": [
    {
     "name": "stdout",
     "output_type": "stream",
     "text": [
      "Percentil:  2 \n"
     ]
    }
   ],
   "source": [
    "percentil = np.percentile(vel_internet,16)\n",
    "#print(\"Percentil: %2.f \" % percentil)"
   ]
  },
  {
   "cell_type": "markdown",
   "metadata": {},
   "source": [
    "## Medidas de dispersão\n",
    "São medidas que indicam o quão espalhados estão os dados, ou sua variação. São elas: Amplitude, variância, desvio padrão e desvio absoluto"
   ]
  },
  {
   "cell_type": "code",
   "execution_count": 3,
   "metadata": {},
   "outputs": [],
   "source": [
    "qnt_acidentes = pd.Series([3,5,0,2,3,5,9,0,2,1,1,0,1,8,5,1,1,7,2,0])\n",
    "\n",
    "dataset1 = [4,9,2,8,0,6,1,8,7,0,\n",
    "           4,3,8,9,8,6,2,9,9,3,\n",
    "           3,3,8,5,0,9,7,3,4,0,\n",
    "           7,0\n",
    "          ]\n",
    "\n",
    "dataset2 = [5,4,3,6,2,2,7]\n",
    "\n",
    "data1 = pd.Series(dataset1)\n",
    "data2 = pd.Series(dataset2)\n",
    "\n",
    "#print(sorted(qnt_acidentes))\n",
    "\n",
    "# Descrição rapida dos dados\n",
    "# count = Quantidade de dados\n",
    "# mean = Média\n",
    "# sdt = Desvio Padrão\n",
    "# min = Valor Minimo\n",
    "# 25% = 1° Quartil\n",
    "# 50% = 1° Quartil\n",
    "# 75% = 1° Quartil\n",
    "# max = Valor máximo\n",
    "#print(qnt_acidentes.describe())\n",
    "#percentil = np.percentile(qnt_acidentes, 73)\n",
    "# print(\"Percentil 73: \", percentil ) # VER ISSO"
   ]
  },
  {
   "cell_type": "markdown",
   "metadata": {},
   "source": [
    "### Amplitude\n",
    "#### A = maximo - minimo\n",
    "A amplitude é a diferença entre o maior e menor valor de um conjunto de dados."
   ]
  },
  {
   "cell_type": "code",
   "execution_count": 12,
   "metadata": {},
   "outputs": [
    {
     "name": "stdout",
     "output_type": "stream",
     "text": [
      "Máximo: 9 Mínimo: 0\n",
      "Amplitude: 9 \n"
     ]
    }
   ],
   "source": [
    "minimo = qnt_acidentes.min()\n",
    "maximo = qnt_acidentes.max()\n",
    "\n",
    "print(\"Máximo: %d Mínimo: %d\" % (maximo, minimo) )\n",
    "print(\"Amplitude: %d \" % (maximo - minimo))"
   ]
  },
  {
   "cell_type": "markdown",
   "metadata": {},
   "source": [
    "### Variancia \n",
    "#### (S²) - Amostral\n",
    "#### (O²) - Populacional\n",
    "A variância indica quanto os dados de um conjunto estão afastados de seu valor esperado."
   ]
  },
  {
   "cell_type": "code",
   "execution_count": 9,
   "metadata": {},
   "outputs": [
    {
     "name": "stdout",
     "output_type": "stream",
     "text": [
      "774.7948\n",
      "Variancia Amostral:  3.484982307692305\n"
     ]
    }
   ],
   "source": [
    "import math\n",
    "\n",
    "# Variancia Populacional\n",
    "def varianciaPopulacional(data):\n",
    "    tamanho = len(data)\n",
    "    media = data.mean()\n",
    "    soma = 0\n",
    "    \n",
    "    for valor in data:\n",
    "        soma += math.pow( (valor - media ), 2)\n",
    "     \n",
    "    return soma / float(tamanho)\n",
    "\n",
    "\n",
    "# Variancia Amostral\n",
    "def varianciaAmostral(data):\n",
    "    tamanho = len(data)\n",
    "    somaDados = sum(data)\n",
    "\n",
    "    soma1 = 0\n",
    "    soma2 = (math.pow(somaDados, 2)) / tamanho\n",
    "    \n",
    "    for valor in dataset:\n",
    "        soma1 += math.pow((valor),2)\n",
    "        \n",
    "    return (soma1 - soma2) / float((tamanho - 1))\n",
    "    \n",
    "#print(\"Variancia Populacional: \", varianciaPopulacional(data1))\n",
    "print(\"Variancia Amostral: \", varianciaAmostral(data1)) # 4,75\n"
   ]
  },
  {
   "cell_type": "markdown",
   "metadata": {},
   "source": [
    "### Desvio Padrão\n",
    "É a raiz quadrada da variância"
   ]
  },
  {
   "cell_type": "code",
   "execution_count": 83,
   "metadata": {},
   "outputs": [
    {
     "name": "stdout",
     "output_type": "stream",
     "text": [
      "Desvio padrão Amostral:  3.163358332136908\n",
      "Desvio padrão Populacional:  1.9518001458970666\n"
     ]
    }
   ],
   "source": [
    "def desvioPadrao(data):\n",
    "    return math.sqrt(data)\n",
    "\n",
    "print(\"Desvio padrão Amostral: \", desvioPadrao(varianciaPopulacional(data1)))\n",
    "print(\"Desvio padrão Populacional: \", desvioPadrao(varianciaAmostral(data2)))"
   ]
  },
  {
   "cell_type": "markdown",
   "metadata": {},
   "source": [
    "### Coeficiente de Variação"
   ]
  },
  {
   "cell_type": "code",
   "execution_count": 85,
   "metadata": {},
   "outputs": [
    {
     "name": "stdout",
     "output_type": "stream",
     "text": [
      "Populacional:  66.35303802690034\n",
      "Amostral:  47.11241731475677\n"
     ]
    }
   ],
   "source": [
    "print(\"Populacional: \", (data1.std()/data1.mean())*100)\n",
    "print(\"Amostral: \", (data2.std()/data2.mean())*100)"
   ]
  },
  {
   "cell_type": "markdown",
   "metadata": {},
   "source": [
    "### Mediana da tabela\n",
    "\n",
    "m/2 = 40/2 = 20º e 21º\n",
    "\n",
    "Essas posições estão respectivamente na 4º e 5º classes\n",
    "\n",
    "#### hi = Li - li \n",
    "-> hi - 4 - 3 = 1\n",
    "\n",
    "h- = Amplitude da classe i\n",
    "Li = Limite superior na classe i\n",
    "li = Limite inferior da classe i\n",
    "\n",
    "\n",
    "hi/li = 1/5 = 0,2\n",
    "\n",
    "#### PMQ - FANT \n",
    "-> 20 - 15 = 5\n",
    "\n",
    "Pmq = Posição da mediana\n",
    "Fant = Frequência acumulada anterior\n",
    "\n",
    "### Para a posição 21º\n",
    "MQ = lit(0,2) * 5 \n",
    "-> 3 + 1 = 4\n",
    "    \n",
    "#### MQ = li + hi *(PMQ - Fant) / hi\n",
    "\n",
    "### Para a posição 21º\n",
    "MQ = 4 + 1 * (21 -20) / 3\n",
    "MQ = 4 + 1 * 1 / 3\n",
    "MQ = 4 + 1 / 3\n",
    "\n",
    "= 4,33\n",
    "\n",
    "\n",
    "### Quartil - Divide em quatro partes iguais\n",
    "\n",
    "\n",
    "m/4 = 40/4 = 10º posição(q1)\n",
    "\n",
    "esta na classe 3º posição\n",
    "\n",
    "#### 1º Quartil = q1 = li + hi(Pq1 - Fant)/li\n",
    "2 + 1*(10-7)/8\n",
    "\n",
    "2+3/8 = 2,38\n",
    "\n",
    "#### 3º Quartil = q3 = li + hi(Pq3 - Fant)/li\n",
    "5 + 1 * (30 -23)/13\n",
    "5 + 7/13\n",
    "= 5,54\n",
    "\n",
    "\n",
    "### Percentil\n",
    "p72\n",
    "#### m / 100\n",
    "40/100 = 0,4 * 72 = 28,8 POSIÇÃO\n",
    "está na 6º classe da tabela\n",
    "\n",
    "p72 = li + hi(Pq - Fant)/fi\n",
    "\n",
    "= 5 + 1*(28,8 - 23)/13\n",
    "= 5+ 5,8/13 = 5,45"
   ]
  },
  {
   "cell_type": "code",
   "execution_count": null,
   "metadata": {},
   "outputs": [],
   "source": []
  }
 ],
 "metadata": {
  "kernelspec": {
   "display_name": "Python 3",
   "language": "python",
   "name": "python3"
  },
  "language_info": {
   "codemirror_mode": {
    "name": "ipython",
    "version": 3
   },
   "file_extension": ".py",
   "mimetype": "text/x-python",
   "name": "python",
   "nbconvert_exporter": "python",
   "pygments_lexer": "ipython3",
   "version": "3.5.2"
  }
 },
 "nbformat": 4,
 "nbformat_minor": 2
}
