{
 "cells": [
  {
   "cell_type": "code",
   "execution_count": 39,
   "metadata": {},
   "outputs": [
    {
     "name": "stdout",
     "output_type": "stream",
     "text": [
      "0.63\n",
      "0.81\n",
      "[0.63, 1.44, 2.25, 3.06, 3.87, 4.68, 5.49, 6.300000000000001]\n",
      "        Classes  count\n",
      "0  (0.63, 1.44]      4\n",
      "1  (1.44, 2.25]      4\n",
      "2  (2.25, 3.06]      6\n",
      "3  (3.06, 3.87]      4\n",
      "4  (3.87, 4.68]      3\n",
      "5  (4.68, 5.49]      2\n",
      "6   (5.49, 6.3]     16\n",
      "\n"
     ]
    }
   ],
   "source": [
    "from pandas.tools.plotting import scatter_matrix\n",
    "from collections import Counter\n",
    "import matplotlib.pyplot as plt\n",
    "import pandas as pd\n",
    "import numpy as np\n",
    "import math\n",
    "\n",
    "dataset = [\n",
    "    1.42, 2.70, 5.67, 5.83, 5.74, 1.56, 2.32, 2.14, 0.63, 2.99, \n",
    "    1.03, 2.12, 6.01, 5.84, 5.91, 5.80, 5.54, 5.99, 2.90, 2.90, \n",
    "    5.92, 5.96, 5.73, 4.92, 6.18, 4.38, 6.29, 3.38, 3.78, 6.04, \n",
    "    3.90, 5.57, 1.47, 3.21, 2.32, 4.57, 0.98, 5.43, 1.11, 3.68\n",
    "    ]\n",
    "\n",
    "#dataset = pd.read_csv('dataset/cotacao_dolar.csv')\n",
    "\n",
    "# Usando pandas para criar a series de numeros\n",
    "#data = dataset['cotacao']\n",
    "ordenados = sorted(dataset)\n",
    "data = pd.Series(ordenados)\n",
    "#print(data)\n",
    "\n",
    "# Montando a tabela de distribuição de frequência\n",
    "\n",
    "#math.ceil arrendonda arredonda para o número inteiro mais próximo em direção ao infinito positivo\n",
    "tamanho = len(dataset)\n",
    "valorMinimo = min(dataset)\n",
    "qnt_classe = math.ceil(math.sqrt(tamanho))\n",
    "\n",
    "amplitude = data.max() - data.min()\n",
    "intervalo = round(amplitude / qnt_classe,2)\n",
    "\n",
    "# Intervalos\n",
    "inicial = data.min()\n",
    "print(inicial)\n",
    "print(intervalo)\n",
    "s = inicial\n",
    "\n",
    "#Meu Proprio intervalo para recorte dos dados\n",
    "intervalos = []\n",
    "for i in range(qnt_classe + 1):\n",
    "    intervalos.append(inicial)\n",
    "    inicial+= intervalo\n",
    "\n",
    "print(intervalos)\n",
    "\n",
    "#Ordenando dados\n",
    "ordenados = sorted(dataset)\n",
    "df = pd.DataFrame(ordenados,columns=['Classes'])\n",
    "\n",
    "factor = pd.cut(df.Classes,intervalos)\n",
    "factor\n",
    "frequencia = pd.value_counts(factor)\n",
    "\n",
    "#Agrupando dados para contagem\n",
    "frequencia = df.groupby(factor)['Classes'].agg(['count'])\n",
    "#frequencia\n",
    "\n",
    "# Salvando tabela inicial\n",
    "frequencia.to_csv('dataset_gerados/tabela_teste.csv')\n",
    "\n",
    "#reclamacoes_df = pd.read_csv('dataset_gerados/tabela_teste.csv')\n",
    "print(reclamacoes_df)\n",
    "print()\n"
   ]
  },
  {
   "cell_type": "code",
   "execution_count": null,
   "metadata": {},
   "outputs": [],
   "source": []
  },
  {
   "cell_type": "code",
   "execution_count": null,
   "metadata": {},
   "outputs": [],
   "source": []
  },
  {
   "cell_type": "code",
   "execution_count": null,
   "metadata": {},
   "outputs": [],
   "source": []
  }
 ],
 "metadata": {
  "kernelspec": {
   "display_name": "Python 3",
   "language": "python",
   "name": "python3"
  },
  "language_info": {
   "codemirror_mode": {
    "name": "ipython",
    "version": 3
   },
   "file_extension": ".py",
   "mimetype": "text/x-python",
   "name": "python",
   "nbconvert_exporter": "python",
   "pygments_lexer": "ipython3",
   "version": "3.5.2"
  }
 },
 "nbformat": 4,
 "nbformat_minor": 2
}
