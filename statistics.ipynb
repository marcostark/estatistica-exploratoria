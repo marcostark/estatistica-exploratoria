{
 "cells": [
  {
   "cell_type": "code",
   "execution_count": 1,
   "metadata": {},
   "outputs": [
    {
     "data": {
      "text/html": [
       "<div>\n",
       "<style scoped>\n",
       "    .dataframe tbody tr th:only-of-type {\n",
       "        vertical-align: middle;\n",
       "    }\n",
       "\n",
       "    .dataframe tbody tr th {\n",
       "        vertical-align: top;\n",
       "    }\n",
       "\n",
       "    .dataframe thead th {\n",
       "        text-align: right;\n",
       "    }\n",
       "</style>\n",
       "<table border=\"1\" class=\"dataframe\">\n",
       "  <thead>\n",
       "    <tr style=\"text-align: right;\">\n",
       "      <th></th>\n",
       "      <th>length</th>\n",
       "      <th>width</th>\n",
       "      <th>classe</th>\n",
       "    </tr>\n",
       "  </thead>\n",
       "  <tbody>\n",
       "    <tr>\n",
       "      <th>0</th>\n",
       "      <td>5.1</td>\n",
       "      <td>3.5</td>\n",
       "      <td>Iris-setosa</td>\n",
       "    </tr>\n",
       "    <tr>\n",
       "      <th>1</th>\n",
       "      <td>4.9</td>\n",
       "      <td>3.0</td>\n",
       "      <td>Iris-setosa</td>\n",
       "    </tr>\n",
       "    <tr>\n",
       "      <th>2</th>\n",
       "      <td>4.7</td>\n",
       "      <td>3.2</td>\n",
       "      <td>Iris-setosa</td>\n",
       "    </tr>\n",
       "    <tr>\n",
       "      <th>3</th>\n",
       "      <td>4.6</td>\n",
       "      <td>3.1</td>\n",
       "      <td>Iris-setosa</td>\n",
       "    </tr>\n",
       "    <tr>\n",
       "      <th>4</th>\n",
       "      <td>5.0</td>\n",
       "      <td>3.6</td>\n",
       "      <td>Iris-setosa</td>\n",
       "    </tr>\n",
       "    <tr>\n",
       "      <th>5</th>\n",
       "      <td>5.4</td>\n",
       "      <td>3.9</td>\n",
       "      <td>Iris-setosa</td>\n",
       "    </tr>\n",
       "    <tr>\n",
       "      <th>6</th>\n",
       "      <td>4.6</td>\n",
       "      <td>3.4</td>\n",
       "      <td>Iris-setosa</td>\n",
       "    </tr>\n",
       "    <tr>\n",
       "      <th>7</th>\n",
       "      <td>5.0</td>\n",
       "      <td>3.4</td>\n",
       "      <td>Iris-setosa</td>\n",
       "    </tr>\n",
       "  </tbody>\n",
       "</table>\n",
       "</div>"
      ],
      "text/plain": [
       "   length  width       classe\n",
       "0     5.1    3.5  Iris-setosa\n",
       "1     4.9    3.0  Iris-setosa\n",
       "2     4.7    3.2  Iris-setosa\n",
       "3     4.6    3.1  Iris-setosa\n",
       "4     5.0    3.6  Iris-setosa\n",
       "5     5.4    3.9  Iris-setosa\n",
       "6     4.6    3.4  Iris-setosa\n",
       "7     5.0    3.4  Iris-setosa"
      ]
     },
     "execution_count": 1,
     "metadata": {},
     "output_type": "execute_result"
    }
   ],
   "source": [
    "import matplotlib.pyplot as plt\n",
    "import pandas as pd\n",
    "from seaborn import *\n",
    "import numpy as np\n",
    "\n",
    "#from statsmodels.formula.api import *\n",
    "\n",
    "from nltk.probability import FreqDist\n",
    "\n",
    "iris = pd.read_csv('iris.csv')\n",
    "\n",
    "iris.head(8)# Mostrar apenas a quantidade de linhas informadas (Quando informado)"
   ]
  },
  {
   "cell_type": "markdown",
   "metadata": {},
   "source": [
    "## Lista completa ordenada pela ocorrencia dos dados"
   ]
  },
  {
   "cell_type": "code",
   "execution_count": 5,
   "metadata": {},
   "outputs": [
    {
     "name": "stdout",
     "output_type": "stream",
     "text": [
      "0      3.5\n",
      "1      3.0\n",
      "2      3.2\n",
      "3      3.1\n",
      "4      3.6\n",
      "5      3.9\n",
      "6      3.4\n",
      "7      3.4\n",
      "8      2.9\n",
      "9      3.1\n",
      "10     3.7\n",
      "11     3.4\n",
      "12     3.0\n",
      "13     3.0\n",
      "14     4.0\n",
      "15     4.4\n",
      "16     3.9\n",
      "17     3.5\n",
      "18     3.8\n",
      "19     3.8\n",
      "20     3.4\n",
      "21     3.7\n",
      "22     3.6\n",
      "23     3.3\n",
      "24     3.4\n",
      "25     3.0\n",
      "26     3.4\n",
      "27     3.5\n",
      "28     3.4\n",
      "29     3.2\n",
      "      ... \n",
      "120    3.2\n",
      "121    2.8\n",
      "122    2.8\n",
      "123    2.7\n",
      "124    3.3\n",
      "125    3.2\n",
      "126    2.8\n",
      "127    3.0\n",
      "128    2.8\n",
      "129    3.0\n",
      "130    2.8\n",
      "131    3.8\n",
      "132    2.8\n",
      "133    2.8\n",
      "134    2.6\n",
      "135    3.0\n",
      "136    3.4\n",
      "137    3.1\n",
      "138    3.0\n",
      "139    3.1\n",
      "140    3.1\n",
      "141    3.1\n",
      "142    2.7\n",
      "143    3.2\n",
      "144    3.3\n",
      "145    3.0\n",
      "146    2.5\n",
      "147    3.0\n",
      "148    3.4\n",
      "149    3.0\n",
      "Name: width, Length: 150, dtype: float64\n"
     ]
    }
   ],
   "source": [
    "from collections import Counter\n",
    "\n",
    "lista = iris['width']\n",
    "print(lista)\n",
    "#print(Counter(lista).most_common(len(lista)))"
   ]
  },
  {
   "cell_type": "markdown",
   "metadata": {},
   "source": [
    "# Tipos de amostra\n",
    "\n",
    "## Inteiramente Aleatória"
   ]
  },
  {
   "cell_type": "code",
   "execution_count": 4,
   "metadata": {},
   "outputs": [
    {
     "name": "stdout",
     "output_type": "stream",
     "text": [
      "[3.2, 3.0, 3.5, 3.2, 3.5, 2.8, 3.0, 3.4, 3.0, 3.2, 2.5, 2.2, 2.5, 3.0, 2.6, 3.0, 3.8, 3.1, 3.0, 2.7, 3.8, 2.9, 3.1, 2.9, 2.8, 3.1, 3.5, 3.8, 3.4, 3.0, 3.2, 2.8, 2.9, 2.9, 3.7, 3.3, 3.2, 2.8, 2.8, 3.5]\n"
     ]
    }
   ],
   "source": [
    "import random\n",
    "\n",
    "aleatoria = []\n",
    "QUANTIDADE = 40\n",
    "\n",
    "numeros_aleatorios = random.sample(range(1,150), QUANTIDADE)\n",
    "\n",
    "for i in numeros_aleatorios:\n",
    "    aleatoria.append(lista[i])\n",
    "\n",
    "print(aleatoria)\n",
    "#print(Counter(amostragem).most_common(len(amostragem))) # Retorna os termos mais frequentes"
   ]
  },
  {
   "cell_type": "markdown",
   "metadata": {},
   "source": [
    "## Sistematica"
   ]
  },
  {
   "cell_type": "code",
   "execution_count": 20,
   "metadata": {},
   "outputs": [
    {
     "name": "stdout",
     "output_type": "stream",
     "text": [
      "3      3.1\n",
      "13     3.0\n",
      "23     3.3\n",
      "33     4.2\n",
      "43     3.5\n",
      "53     2.3\n",
      "63     2.9\n",
      "73     2.8\n",
      "83     2.7\n",
      "93     2.3\n",
      "103    2.9\n",
      "113    2.5\n",
      "123    2.7\n",
      "133    2.8\n",
      "143    3.2\n",
      "Name: width, dtype: float64\n"
     ]
    }
   ],
   "source": [
    "import random\n",
    "\n",
    "sistematica = []\n",
    "QNT_AMOSTRA = 10\n",
    "\n",
    "# Sorteando o ponto de partida da amostragem de acordo com a quantidade de amostra desejada\n",
    "inicio_aleatorio = random.randint(1, QNT_AMOSTRA)\n",
    "\n",
    "sistematica = lista[inicio_aleatorio::QNT_AMOSTRA]\n",
    "print(sistematica)\n",
    "    #sistematica.append(lista[0::QNT_AMOSTRA])\n",
    "\n",
    "#print(sistematica)"
   ]
  },
  {
   "cell_type": "markdown",
   "metadata": {},
   "source": [
    "## Estratificado"
   ]
  },
  {
   "cell_type": "code",
   "execution_count": null,
   "metadata": {},
   "outputs": [],
   "source": []
  }
 ],
 "metadata": {
  "kernelspec": {
   "display_name": "Python 3",
   "language": "python",
   "name": "python3"
  },
  "language_info": {
   "codemirror_mode": {
    "name": "ipython",
    "version": 3
   },
   "file_extension": ".py",
   "mimetype": "text/x-python",
   "name": "python",
   "nbconvert_exporter": "python",
   "pygments_lexer": "ipython3",
   "version": "3.5.2"
  }
 },
 "nbformat": 4,
 "nbformat_minor": 2
}
