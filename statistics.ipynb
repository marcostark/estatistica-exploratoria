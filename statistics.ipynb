{
 "cells": [
  {
   "cell_type": "raw",
   "metadata": {},
   "source": []
  },
  {
   "cell_type": "markdown",
   "metadata": {},
   "source": [
    "# Dados Qualitativos"
   ]
  },
  {
   "cell_type": "code",
   "execution_count": 1,
   "metadata": {},
   "outputs": [
    {
     "data": {
      "text/html": [
       "<div>\n",
       "<style scoped>\n",
       "    .dataframe tbody tr th:only-of-type {\n",
       "        vertical-align: middle;\n",
       "    }\n",
       "\n",
       "    .dataframe tbody tr th {\n",
       "        vertical-align: top;\n",
       "    }\n",
       "\n",
       "    .dataframe thead th {\n",
       "        text-align: right;\n",
       "    }\n",
       "</style>\n",
       "<table border=\"1\" class=\"dataframe\">\n",
       "  <thead>\n",
       "    <tr style=\"text-align: right;\">\n",
       "      <th></th>\n",
       "      <th>Região</th>\n",
       "      <th>UF</th>\n",
       "      <th>Cidade</th>\n",
       "      <th>Sexo</th>\n",
       "      <th>Faixa Etária</th>\n",
       "      <th>Data Finalização</th>\n",
       "      <th>Tempo Resposta</th>\n",
       "      <th>Nome Fantasia</th>\n",
       "      <th>Segmento de Mercado</th>\n",
       "      <th>Área</th>\n",
       "      <th>Assunto</th>\n",
       "      <th>Grupo Problema</th>\n",
       "      <th>Problema</th>\n",
       "      <th>Como Comprou Contratou</th>\n",
       "      <th>Procurou Empresa</th>\n",
       "      <th>Respondida</th>\n",
       "      <th>Situação</th>\n",
       "      <th>Avaliação Reclamação</th>\n",
       "      <th>Nota do Consumidor</th>\n",
       "      <th>Total</th>\n",
       "    </tr>\n",
       "  </thead>\n",
       "  <tbody>\n",
       "    <tr>\n",
       "      <th>0</th>\n",
       "      <td>SE</td>\n",
       "      <td>SP</td>\n",
       "      <td>Jacareí</td>\n",
       "      <td>M</td>\n",
       "      <td>entre 21 a 30 anos</td>\n",
       "      <td>16/03/2018</td>\n",
       "      <td>8.0</td>\n",
       "      <td>Mercado Livre</td>\n",
       "      <td>Comércio Eletrônico</td>\n",
       "      <td>Produtos de Telefonia e Informática</td>\n",
       "      <td>Acessórios e periféricos (monitor, impressora,...</td>\n",
       "      <td>Entrega do Produto</td>\n",
       "      <td>Não entrega / demora na entrega do produto</td>\n",
       "      <td>Internet</td>\n",
       "      <td>S</td>\n",
       "      <td>S</td>\n",
       "      <td>Finalizada avaliada</td>\n",
       "      <td>Resolvida</td>\n",
       "      <td>5.0</td>\n",
       "      <td>1</td>\n",
       "    </tr>\n",
       "    <tr>\n",
       "      <th>1</th>\n",
       "      <td>CO</td>\n",
       "      <td>DF</td>\n",
       "      <td>Brasília</td>\n",
       "      <td>M</td>\n",
       "      <td>entre 21 a 30 anos</td>\n",
       "      <td>16/03/2018</td>\n",
       "      <td>10.0</td>\n",
       "      <td>SKY</td>\n",
       "      <td>Operadoras de Telecomunicações (Telefonia, Int...</td>\n",
       "      <td>Telecomunicações</td>\n",
       "      <td>Internet Fixa</td>\n",
       "      <td>Cobrança / Contestação</td>\n",
       "      <td>Cobrança em duplicidade / Cobrança referente a...</td>\n",
       "      <td>Internet</td>\n",
       "      <td>S</td>\n",
       "      <td>S</td>\n",
       "      <td>Finalizada avaliada</td>\n",
       "      <td>Resolvida</td>\n",
       "      <td>4.0</td>\n",
       "      <td>1</td>\n",
       "    </tr>\n",
       "    <tr>\n",
       "      <th>2</th>\n",
       "      <td>SE</td>\n",
       "      <td>SP</td>\n",
       "      <td>São Paulo</td>\n",
       "      <td>F</td>\n",
       "      <td>entre 61 a 70 anos</td>\n",
       "      <td>21/03/2018</td>\n",
       "      <td>2.0</td>\n",
       "      <td>Tim</td>\n",
       "      <td>Operadoras de Telecomunicações (Telefonia, Int...</td>\n",
       "      <td>Telecomunicações</td>\n",
       "      <td>Telefonia Móvel Pós-paga</td>\n",
       "      <td>Cobrança / Contestação</td>\n",
       "      <td>Cobrança por serviço/produto não contratado / ...</td>\n",
       "      <td>Não comprei / contratei</td>\n",
       "      <td>S</td>\n",
       "      <td>S</td>\n",
       "      <td>Finalizada avaliada</td>\n",
       "      <td>Resolvida</td>\n",
       "      <td>5.0</td>\n",
       "      <td>1</td>\n",
       "    </tr>\n",
       "    <tr>\n",
       "      <th>3</th>\n",
       "      <td>SE</td>\n",
       "      <td>MG</td>\n",
       "      <td>Juatuba</td>\n",
       "      <td>M</td>\n",
       "      <td>entre 21 a 30 anos</td>\n",
       "      <td>19/03/2018</td>\n",
       "      <td>0.0</td>\n",
       "      <td>Serasa Experian</td>\n",
       "      <td>Bancos de Dados e Cadastros de Consumidores</td>\n",
       "      <td>Serviços Financeiros</td>\n",
       "      <td>Banco de Dados e Cadastros de Consumidores (SP...</td>\n",
       "      <td>Informação</td>\n",
       "      <td>Dados pessoais ou financeiros consultados, col...</td>\n",
       "      <td>Internet</td>\n",
       "      <td>N</td>\n",
       "      <td>S</td>\n",
       "      <td>Finalizada avaliada</td>\n",
       "      <td>Resolvida</td>\n",
       "      <td>5.0</td>\n",
       "      <td>1</td>\n",
       "    </tr>\n",
       "  </tbody>\n",
       "</table>\n",
       "</div>"
      ],
      "text/plain": [
       "  Região  UF     Cidade Sexo        Faixa Etária Data Finalização  \\\n",
       "0     SE  SP    Jacareí    M  entre 21 a 30 anos       16/03/2018   \n",
       "1     CO  DF   Brasília    M  entre 21 a 30 anos       16/03/2018   \n",
       "2     SE  SP  São Paulo    F  entre 61 a 70 anos       21/03/2018   \n",
       "3     SE  MG    Juatuba    M  entre 21 a 30 anos       19/03/2018   \n",
       "\n",
       "   Tempo Resposta     Nome Fantasia  \\\n",
       "0             8.0     Mercado Livre   \n",
       "1            10.0               SKY   \n",
       "2             2.0               Tim   \n",
       "3             0.0  Serasa Experian    \n",
       "\n",
       "                                 Segmento de Mercado  \\\n",
       "0                                Comércio Eletrônico   \n",
       "1  Operadoras de Telecomunicações (Telefonia, Int...   \n",
       "2  Operadoras de Telecomunicações (Telefonia, Int...   \n",
       "3        Bancos de Dados e Cadastros de Consumidores   \n",
       "\n",
       "                                  Área  \\\n",
       "0  Produtos de Telefonia e Informática   \n",
       "1                     Telecomunicações   \n",
       "2                     Telecomunicações   \n",
       "3                 Serviços Financeiros   \n",
       "\n",
       "                                             Assunto          Grupo Problema  \\\n",
       "0  Acessórios e periféricos (monitor, impressora,...      Entrega do Produto   \n",
       "1                                      Internet Fixa  Cobrança / Contestação   \n",
       "2                           Telefonia Móvel Pós-paga  Cobrança / Contestação   \n",
       "3  Banco de Dados e Cadastros de Consumidores (SP...              Informação   \n",
       "\n",
       "                                            Problema   Como Comprou Contratou  \\\n",
       "0         Não entrega / demora na entrega do produto                 Internet   \n",
       "1  Cobrança em duplicidade / Cobrança referente a...                 Internet   \n",
       "2  Cobrança por serviço/produto não contratado / ...  Não comprei / contratei   \n",
       "3  Dados pessoais ou financeiros consultados, col...                 Internet   \n",
       "\n",
       "  Procurou Empresa Respondida             Situação Avaliação Reclamação  \\\n",
       "0                S          S  Finalizada avaliada            Resolvida   \n",
       "1                S          S  Finalizada avaliada            Resolvida   \n",
       "2                S          S  Finalizada avaliada            Resolvida   \n",
       "3                N          S  Finalizada avaliada            Resolvida   \n",
       "\n",
       "   Nota do Consumidor  Total  \n",
       "0                 5.0      1  \n",
       "1                 4.0      1  \n",
       "2                 5.0      1  \n",
       "3                 5.0      1  "
      ]
     },
     "execution_count": 1,
     "metadata": {},
     "output_type": "execute_result"
    }
   ],
   "source": [
    "import matplotlib.pyplot as plt\n",
    "import pandas as pd\n",
    "from seaborn import *\n",
    "import numpy as np\n",
    "\n",
    "#from statsmodels.formula.api import *\n",
    "\n",
    "#from nltk.probability import FreqDist\n",
    "\n",
    "iris = pd.read_csv('bases/reclamacoes_2018-03.csv',sep=';',encoding='latin1') # Setando o delimitador e a linguagem\n",
    "\n",
    "iris.head(4)# Mostrar apenas a quantidade de linhas informadas (Quando informado)\n"
   ]
  },
  {
   "cell_type": "markdown",
   "metadata": {},
   "source": [
    "## Lista completa ordenada pela ocorrencia dos dados"
   ]
  },
  {
   "cell_type": "code",
   "execution_count": 16,
   "metadata": {},
   "outputs": [],
   "source": [
    "from collections import Counter\n",
    "\n",
    "lista = iris['Área']\n",
    "#print(lista)\n",
    "#print(Counter(lista).most_common(len(lista)))"
   ]
  },
  {
   "cell_type": "code",
   "execution_count": 17,
   "metadata": {},
   "outputs": [
    {
     "data": {
      "text/plain": [
       "Index(['Região', 'UF', 'Cidade', 'Sexo', 'Faixa Etária', 'Data Finalização',\n",
       "       'Tempo Resposta', 'Nome Fantasia', 'Segmento de Mercado', 'Área',\n",
       "       'Assunto', 'Grupo Problema', 'Problema', 'Como Comprou Contratou',\n",
       "       'Procurou Empresa', 'Respondida', 'Situação', 'Avaliação Reclamação',\n",
       "       'Nota do Consumidor', 'Total'],\n",
       "      dtype='object')"
      ]
     },
     "execution_count": 17,
     "metadata": {},
     "output_type": "execute_result"
    }
   ],
   "source": [
    "iris.columns # Retorna o nome das colunas"
   ]
  },
  {
   "cell_type": "markdown",
   "metadata": {},
   "source": [
    "# Tipos de amostra\n",
    "\n",
    "## Amostragem Inteiramente Aleatória"
   ]
  },
  {
   "cell_type": "code",
   "execution_count": 21,
   "metadata": {},
   "outputs": [
    {
     "data": {
      "text/html": [
       "<div>\n",
       "<style scoped>\n",
       "    .dataframe tbody tr th:only-of-type {\n",
       "        vertical-align: middle;\n",
       "    }\n",
       "\n",
       "    .dataframe tbody tr th {\n",
       "        vertical-align: top;\n",
       "    }\n",
       "\n",
       "    .dataframe thead th {\n",
       "        text-align: right;\n",
       "    }\n",
       "</style>\n",
       "<table border=\"1\" class=\"dataframe\">\n",
       "  <thead>\n",
       "    <tr style=\"text-align: right;\">\n",
       "      <th></th>\n",
       "      <th>Servico</th>\n",
       "    </tr>\n",
       "  </thead>\n",
       "  <tbody>\n",
       "    <tr>\n",
       "      <th>0</th>\n",
       "      <td>Telecomunicações</td>\n",
       "    </tr>\n",
       "    <tr>\n",
       "      <th>1</th>\n",
       "      <td>Serviços Financeiros</td>\n",
       "    </tr>\n",
       "    <tr>\n",
       "      <th>2</th>\n",
       "      <td>Serviços Financeiros</td>\n",
       "    </tr>\n",
       "    <tr>\n",
       "      <th>3</th>\n",
       "      <td>Produtos de Telefonia e Informática</td>\n",
       "    </tr>\n",
       "    <tr>\n",
       "      <th>4</th>\n",
       "      <td>Produtos de Telefonia e Informática</td>\n",
       "    </tr>\n",
       "    <tr>\n",
       "      <th>5</th>\n",
       "      <td>Demais Produtos</td>\n",
       "    </tr>\n",
       "    <tr>\n",
       "      <th>6</th>\n",
       "      <td>Serviços Financeiros</td>\n",
       "    </tr>\n",
       "    <tr>\n",
       "      <th>7</th>\n",
       "      <td>Produtos de Telefonia e Informática</td>\n",
       "    </tr>\n",
       "    <tr>\n",
       "      <th>8</th>\n",
       "      <td>Telecomunicações</td>\n",
       "    </tr>\n",
       "    <tr>\n",
       "      <th>9</th>\n",
       "      <td>Telecomunicações</td>\n",
       "    </tr>\n",
       "    <tr>\n",
       "      <th>10</th>\n",
       "      <td>Produtos de Telefonia e Informática</td>\n",
       "    </tr>\n",
       "    <tr>\n",
       "      <th>11</th>\n",
       "      <td>Serviços Financeiros</td>\n",
       "    </tr>\n",
       "    <tr>\n",
       "      <th>12</th>\n",
       "      <td>Telecomunicações</td>\n",
       "    </tr>\n",
       "    <tr>\n",
       "      <th>13</th>\n",
       "      <td>Serviços Financeiros</td>\n",
       "    </tr>\n",
       "    <tr>\n",
       "      <th>14</th>\n",
       "      <td>Telecomunicações</td>\n",
       "    </tr>\n",
       "    <tr>\n",
       "      <th>15</th>\n",
       "      <td>Telecomunicações</td>\n",
       "    </tr>\n",
       "    <tr>\n",
       "      <th>16</th>\n",
       "      <td>Serviços Financeiros</td>\n",
       "    </tr>\n",
       "    <tr>\n",
       "      <th>17</th>\n",
       "      <td>Telecomunicações</td>\n",
       "    </tr>\n",
       "    <tr>\n",
       "      <th>18</th>\n",
       "      <td>Demais Produtos</td>\n",
       "    </tr>\n",
       "    <tr>\n",
       "      <th>19</th>\n",
       "      <td>Serviços Financeiros</td>\n",
       "    </tr>\n",
       "    <tr>\n",
       "      <th>20</th>\n",
       "      <td>Serviços Financeiros</td>\n",
       "    </tr>\n",
       "    <tr>\n",
       "      <th>21</th>\n",
       "      <td>Telecomunicações</td>\n",
       "    </tr>\n",
       "    <tr>\n",
       "      <th>22</th>\n",
       "      <td>Telecomunicações</td>\n",
       "    </tr>\n",
       "    <tr>\n",
       "      <th>23</th>\n",
       "      <td>Telecomunicações</td>\n",
       "    </tr>\n",
       "    <tr>\n",
       "      <th>24</th>\n",
       "      <td>Telecomunicações</td>\n",
       "    </tr>\n",
       "    <tr>\n",
       "      <th>25</th>\n",
       "      <td>Água, Energia, Gás</td>\n",
       "    </tr>\n",
       "    <tr>\n",
       "      <th>26</th>\n",
       "      <td>Serviços Financeiros</td>\n",
       "    </tr>\n",
       "    <tr>\n",
       "      <th>27</th>\n",
       "      <td>Telecomunicações</td>\n",
       "    </tr>\n",
       "    <tr>\n",
       "      <th>28</th>\n",
       "      <td>Transportes</td>\n",
       "    </tr>\n",
       "    <tr>\n",
       "      <th>29</th>\n",
       "      <td>Serviços Financeiros</td>\n",
       "    </tr>\n",
       "    <tr>\n",
       "      <th>30</th>\n",
       "      <td>Serviços Financeiros</td>\n",
       "    </tr>\n",
       "    <tr>\n",
       "      <th>31</th>\n",
       "      <td>Telecomunicações</td>\n",
       "    </tr>\n",
       "    <tr>\n",
       "      <th>32</th>\n",
       "      <td>Telecomunicações</td>\n",
       "    </tr>\n",
       "    <tr>\n",
       "      <th>33</th>\n",
       "      <td>Telecomunicações</td>\n",
       "    </tr>\n",
       "    <tr>\n",
       "      <th>34</th>\n",
       "      <td>Serviços Financeiros</td>\n",
       "    </tr>\n",
       "    <tr>\n",
       "      <th>35</th>\n",
       "      <td>Demais Produtos</td>\n",
       "    </tr>\n",
       "    <tr>\n",
       "      <th>36</th>\n",
       "      <td>Telecomunicações</td>\n",
       "    </tr>\n",
       "    <tr>\n",
       "      <th>37</th>\n",
       "      <td>Serviços Financeiros</td>\n",
       "    </tr>\n",
       "    <tr>\n",
       "      <th>38</th>\n",
       "      <td>Serviços Financeiros</td>\n",
       "    </tr>\n",
       "    <tr>\n",
       "      <th>39</th>\n",
       "      <td>Telecomunicações</td>\n",
       "    </tr>\n",
       "    <tr>\n",
       "      <th>40</th>\n",
       "      <td>Serviços Financeiros</td>\n",
       "    </tr>\n",
       "    <tr>\n",
       "      <th>41</th>\n",
       "      <td>Serviços Financeiros</td>\n",
       "    </tr>\n",
       "    <tr>\n",
       "      <th>42</th>\n",
       "      <td>Serviços Financeiros</td>\n",
       "    </tr>\n",
       "    <tr>\n",
       "      <th>43</th>\n",
       "      <td>Telecomunicações</td>\n",
       "    </tr>\n",
       "    <tr>\n",
       "      <th>44</th>\n",
       "      <td>Telecomunicações</td>\n",
       "    </tr>\n",
       "    <tr>\n",
       "      <th>45</th>\n",
       "      <td>Serviços Financeiros</td>\n",
       "    </tr>\n",
       "    <tr>\n",
       "      <th>46</th>\n",
       "      <td>Serviços Financeiros</td>\n",
       "    </tr>\n",
       "    <tr>\n",
       "      <th>47</th>\n",
       "      <td>Telecomunicações</td>\n",
       "    </tr>\n",
       "    <tr>\n",
       "      <th>48</th>\n",
       "      <td>Transportes</td>\n",
       "    </tr>\n",
       "    <tr>\n",
       "      <th>49</th>\n",
       "      <td>Telecomunicações</td>\n",
       "    </tr>\n",
       "  </tbody>\n",
       "</table>\n",
       "</div>"
      ],
      "text/plain": [
       "                                Servico\n",
       "0                      Telecomunicações\n",
       "1                  Serviços Financeiros\n",
       "2                  Serviços Financeiros\n",
       "3   Produtos de Telefonia e Informática\n",
       "4   Produtos de Telefonia e Informática\n",
       "5                       Demais Produtos\n",
       "6                  Serviços Financeiros\n",
       "7   Produtos de Telefonia e Informática\n",
       "8                      Telecomunicações\n",
       "9                      Telecomunicações\n",
       "10  Produtos de Telefonia e Informática\n",
       "11                 Serviços Financeiros\n",
       "12                     Telecomunicações\n",
       "13                 Serviços Financeiros\n",
       "14                     Telecomunicações\n",
       "15                     Telecomunicações\n",
       "16                 Serviços Financeiros\n",
       "17                     Telecomunicações\n",
       "18                      Demais Produtos\n",
       "19                 Serviços Financeiros\n",
       "20                 Serviços Financeiros\n",
       "21                     Telecomunicações\n",
       "22                     Telecomunicações\n",
       "23                     Telecomunicações\n",
       "24                     Telecomunicações\n",
       "25                   Água, Energia, Gás\n",
       "26                 Serviços Financeiros\n",
       "27                     Telecomunicações\n",
       "28                          Transportes\n",
       "29                 Serviços Financeiros\n",
       "30                 Serviços Financeiros\n",
       "31                     Telecomunicações\n",
       "32                     Telecomunicações\n",
       "33                     Telecomunicações\n",
       "34                 Serviços Financeiros\n",
       "35                      Demais Produtos\n",
       "36                     Telecomunicações\n",
       "37                 Serviços Financeiros\n",
       "38                 Serviços Financeiros\n",
       "39                     Telecomunicações\n",
       "40                 Serviços Financeiros\n",
       "41                 Serviços Financeiros\n",
       "42                 Serviços Financeiros\n",
       "43                     Telecomunicações\n",
       "44                     Telecomunicações\n",
       "45                 Serviços Financeiros\n",
       "46                 Serviços Financeiros\n",
       "47                     Telecomunicações\n",
       "48                          Transportes\n",
       "49                     Telecomunicações"
      ]
     },
     "execution_count": 21,
     "metadata": {},
     "output_type": "execute_result"
    }
   ],
   "source": [
    "import random\n",
    "\n",
    "aleatoria = []\n",
    "QUANTIDADE = 50 # Quantidade da amostra\n",
    "TAMANHO_LISTA = len(lista)\n",
    "\n",
    "numeros_aleatorios = random.sample(range(1,TAMANHO_LISTA), QUANTIDADE)\n",
    "\n",
    "for i in numeros_aleatorios:\n",
    "    aleatoria.append(lista[i])\n",
    "\n",
    "#print(aleatoria)\n",
    "\n",
    "df = pd.DataFrame(aleatoria, columns=['Servico'])\n",
    "df.to_csv('tabela_servicos.csv')\n",
    "df\n",
    "#print(Counter(amostragem).most_common(len(amostragem))) # Retorna os termos mais frequentes"
   ]
  },
  {
   "cell_type": "markdown",
   "metadata": {},
   "source": [
    "## Amostragem Sistematica"
   ]
  },
  {
   "cell_type": "code",
   "execution_count": 20,
   "metadata": {},
   "outputs": [],
   "source": [
    "import random\n",
    "\n",
    "sistematica = []\n",
    "QNT_AMOSTRA = 10\n",
    "\n",
    "# Sorteando o ponto de partida da amostragem de acordo com a quantidade de amostra desejada\n",
    "inicio_aleatorio = random.randint(1, QNT_AMOSTRA)\n",
    "\n",
    "sistematica = lista[inicio_aleatorio::QNT_AMOSTRA]\n",
    "#print(sistematica)\n",
    "    #sistematica.append(lista[0::QNT_AMOSTRA])\n",
    "\n",
    "#print(sistematica)"
   ]
  },
  {
   "cell_type": "markdown",
   "metadata": {},
   "source": [
    "## Amostragem Estratificado"
   ]
  },
  {
   "cell_type": "code",
   "execution_count": null,
   "metadata": {},
   "outputs": [],
   "source": []
  },
  {
   "cell_type": "markdown",
   "metadata": {},
   "source": [
    "## Tabelas"
   ]
  },
  {
   "cell_type": "code",
   "execution_count": 48,
   "metadata": {},
   "outputs": [
    {
     "name": "stdout",
     "output_type": "stream",
     "text": [
      "                               Servico  Quantidade\n",
      "0                     Telecomunicações          21\n",
      "1                 Serviços Financeiros          19\n",
      "2  Produtos de Telefonia e Informática           4\n",
      "3                      Demais Produtos           3\n",
      "4                          Transportes           2\n",
      "5                   Água, Energia, Gás           1\n"
     ]
    },
    {
     "data": {
      "text/html": [
       "<div>\n",
       "<style scoped>\n",
       "    .dataframe tbody tr th:only-of-type {\n",
       "        vertical-align: middle;\n",
       "    }\n",
       "\n",
       "    .dataframe tbody tr th {\n",
       "        vertical-align: top;\n",
       "    }\n",
       "\n",
       "    .dataframe thead th {\n",
       "        text-align: right;\n",
       "    }\n",
       "</style>\n",
       "<table border=\"1\" class=\"dataframe\">\n",
       "  <thead>\n",
       "    <tr style=\"text-align: right;\">\n",
       "      <th></th>\n",
       "      <th>Quantidade</th>\n",
       "    </tr>\n",
       "  </thead>\n",
       "  <tbody>\n",
       "    <tr>\n",
       "      <th>count</th>\n",
       "      <td>6.000000</td>\n",
       "    </tr>\n",
       "    <tr>\n",
       "      <th>mean</th>\n",
       "      <td>8.333333</td>\n",
       "    </tr>\n",
       "    <tr>\n",
       "      <th>std</th>\n",
       "      <td>9.114092</td>\n",
       "    </tr>\n",
       "    <tr>\n",
       "      <th>min</th>\n",
       "      <td>1.000000</td>\n",
       "    </tr>\n",
       "    <tr>\n",
       "      <th>25%</th>\n",
       "      <td>2.250000</td>\n",
       "    </tr>\n",
       "    <tr>\n",
       "      <th>50%</th>\n",
       "      <td>3.500000</td>\n",
       "    </tr>\n",
       "    <tr>\n",
       "      <th>75%</th>\n",
       "      <td>15.250000</td>\n",
       "    </tr>\n",
       "    <tr>\n",
       "      <th>max</th>\n",
       "      <td>21.000000</td>\n",
       "    </tr>\n",
       "  </tbody>\n",
       "</table>\n",
       "</div>"
      ],
      "text/plain": [
       "       Quantidade\n",
       "count    6.000000\n",
       "mean     8.333333\n",
       "std      9.114092\n",
       "min      1.000000\n",
       "25%      2.250000\n",
       "50%      3.500000\n",
       "75%     15.250000\n",
       "max     21.000000"
      ]
     },
     "execution_count": 48,
     "metadata": {},
     "output_type": "execute_result"
    }
   ],
   "source": [
    "from collections import Counter\n",
    "\n",
    "#lista = celulares['Marca']\n",
    "#lista = celulares['Marca'].value_counts()\n",
    "#lista\n",
    "\n",
    "#celulares = pd.read_csv('bases/celulares.csv',encoding='latin1')\n",
    "\n",
    "tabela_frequencia = Counter(aleatoria).most_common(len(aleatoria))\n",
    "#tabela_frequencia = Counter(celulares).most_common(len(celulares))\n",
    "\n",
    "df = pd.DataFrame(tabela_frequencia, columns=['Servico','Quantidade'])\n",
    "df.to_csv('tabela_frequencia_servicos.csv')\n",
    "print(df)\n",
    "\n",
    "# Descrição dos dados\n",
    "df.describe()\n"
   ]
  },
  {
   "cell_type": "markdown",
   "metadata": {},
   "source": [
    "## Gráficos\n",
    "\n",
    "### Gráfico de Coluna"
   ]
  },
  {
   "cell_type": "code",
   "execution_count": 26,
   "metadata": {},
   "outputs": [
    {
     "data": {
      "image/png": "[encoded data removed]",
      "text/plain": [
       "<Figure size 1152x432 with 1 Axes>"
      ]
     },
     "metadata": {},
     "output_type": "display_data"
    }
   ],
   "source": [
    "servicos = pd.read_csv('tabela_servicos.csv',encoding='utf-8')\n",
    "\n",
    "lista = servicos['Servico'].value_counts().plot(kind='bar',figsize=(16,6), grid = False, rot = 0, color='green')\n",
    "plt.title('Reclamações por Servicos')\n",
    "plt.xlabel('Servicos')\n",
    "plt.ylabel('Quantidade')\n",
    "plt.show()"
   ]
  },
  {
   "cell_type": "markdown",
   "metadata": {},
   "source": [
    "### Gráfico de Barra"
   ]
  },
  {
   "cell_type": "code",
   "execution_count": 28,
   "metadata": {},
   "outputs": [
    {
     "data": {
      "image/png": "[encoded data removed]",
      "text/plain": [
       "<Figure size 720x576 with 1 Axes>"
      ]
     },
     "metadata": {},
     "output_type": "display_data"
    }
   ],
   "source": [
    "lista = servicos['Servico'].value_counts().plot(kind='barh',figsize=(10,8), grid = False, rot = 0, color='green')\n",
    "plt.title('Marcas de Celulares mais usadas')\n",
    "plt.xlabel('Quantidade')\n",
    "plt.ylabel('Marcas')\n",
    "plt.show()"
   ]
  },
  {
   "cell_type": "markdown",
   "metadata": {},
   "source": [
    "### Gráfico de Pizza"
   ]
  },
  {
   "cell_type": "code",
   "execution_count": 35,
   "metadata": {},
   "outputs": [
    {
     "name": "stdout",
     "output_type": "stream",
     "text": [
      "   Unnamed: 0                              Servico  Quantidade\n",
      "0           0                     Telecomunicações          21\n",
      "1           1                 Serviços Financeiros          19\n",
      "2           2  Produtos de Telefonia e Informática           4\n",
      "3           3                      Demais Produtos           3\n",
      "4           4                          Transportes           2\n",
      "5           5                   Água, Energia, Gás           1\n"
     ]
    },
    {
     "data": {
      "image/png": "[encoded data removed]",
      "text/plain": [
       "<Figure size 432x288 with 1 Axes>"
      ]
     },
     "metadata": {},
     "output_type": "display_data"
    }
   ],
   "source": [
    "from matplotlib.gridspec import GridSpec\n",
    "\n",
    "df = pd.read_csv('tabela_frequencia_servicos.csv',sep=',',encoding='utf-8')\n",
    "print(df)\n",
    "\n",
    "the_grid = GridSpec(1, 1)\n",
    "\n",
    "labels = df['Servico']\n",
    "fracs = df['Quantidade']\n",
    "\n",
    "plt.subplot(the_grid[0, 0], aspect=1)\n",
    "\n",
    "plt.pie(fracs, labels=labels, autopct='%1.1f%%')\n",
    "#plt.pie(fracs, labels=labels, autopct='%1.1f%%', shadow=True)\n",
    "\n",
    "plt.show()"
   ]
  },
  {
   "cell_type": "markdown",
   "metadata": {},
   "source": [
    "### Gráfico Polar"
   ]
  },
  {
   "cell_type": "code",
   "execution_count": null,
   "metadata": {},
   "outputs": [],
   "source": []
  },
  {
   "cell_type": "code",
   "execution_count": 40,
   "metadata": {},
   "outputs": [
    {
     "data": {
      "image/png": "[encoded data removed]",
      "text/plain": [
       "<Figure size 432x288 with 1 Axes>"
      ]
     },
     "metadata": {},
     "output_type": "display_data"
    }
   ],
   "source": [
    "import matplotlib.pyplot as plt\n",
    "from math import pi\n",
    "import pandas as pd\n",
    "import numpy as np\n",
    "#!pip install seaborn\n",
    "import seaborn as sns\n",
    "\n",
    "#df=pd.read_csv(\"Pokemon.csv\")\n",
    "\n",
    "#df2=pd.read_csv(\"bases/aulas/tabela_frequencia_estados.csv\")\n",
    "\n",
    "# Pegando a linha com os labels\n",
    "labels = list(df['Servico'])\n",
    "\n",
    "# Pegando os valores correspondentes aos labels\n",
    "stats = list(df['Quantidade'])\n",
    "\n",
    "# Usado para selecionar valores de uma determinada linha\n",
    "# labels=np.array(['HP', 'Attack', 'Defense', 'Sp. Atk', 'Sp. Def', 'Speed'])\n",
    "# stats = df.loc [ 386 , labels] .values\n",
    "\n",
    "# Gerando os angulos\n",
    "angles = np.linspace(0, 2*np.pi, len(labels), endpoint=False)# Set the angle\n",
    "\n",
    "# Usado para criar uma area fechada para o gráfico polar\n",
    "stats=np.concatenate((stats,[stats[0]]))\n",
    "angles=np.concatenate((angles,[angles[0]]))\n",
    "\n",
    "fig=plt.figure()\n",
    "ax = fig.add_subplot(111, polar=True)   # Definindo o eixo axial\n",
    "ax.plot(angles, stats, 'o-', linewidth=2)  # Desenhando o gráfico\n",
    "ax.fill(angles, stats, alpha=0.25)  # Procurar a area\n",
    "ax.set_thetagrids(angles * 180/np.pi, labels)  # Definindo o rótulo para cada eixo do gráfico\n",
    "ax.set_title(\"Reclamações - 2018\") # Titulo do gráfico\n",
    "#ax.set_title([df.loc[386,\"Name\"]])  # Set the pokemon's name as the title\n",
    "\n",
    "#ax.set_rlim(0,250) # Setar valor maximo para valores dos circulos\n",
    "ax.grid(True)"
   ]
  },
  {
   "cell_type": "markdown",
   "metadata": {},
   "source": [
    "# DADOS QUANTITATIVOS DISCRETOS"
   ]
  },
  {
   "cell_type": "code",
   "execution_count": 5,
   "metadata": {},
   "outputs": [
    {
     "name": "stdout",
     "output_type": "stream",
     "text": [
      "Média: 2 \n",
      "Moda: 3 \n",
      "Mediana: 3 \n",
      "Quartil: 2 \n",
      "Percentil:  2.0\n"
     ]
    }
   ],
   "source": [
    "import matplotlib.pyplot as plt\n",
    "import pandas as pd\n",
    "import numpy as np\n",
    "\n",
    "table_qnt_filhos = pd.read_csv(\"bases/aulas/tabela_quant_filhos.csv\")\n",
    "\n",
    "# Usando pandas para criar a series de numeros\n",
    "qnt_filhos = pd.Series([4,1,4,3,4,3,3,2,3,4,2,5,1,3,2,2])\n",
    "\n",
    "print(\"Média: %d \" % qnt_filhos.mean())\n",
    "print(\"Moda: %d \" % qnt_filhos.mode())\n",
    "\n",
    "print(\"Mediana: %d \" % qnt_filhos.median())\n",
    "print(\"Quartil: %d \" % qnt_filhos.quantile(q=0.25))\n",
    "\n",
    "percentil = np.percentile(qnt_filhos,16)\n",
    "print(\"Percentil: \", percentil)\n",
    "\n",
    "# Criar coluna de frequencia acumulada\n"
   ]
  },
  {
   "cell_type": "markdown",
   "metadata": {},
   "source": [
    "### Media\n",
    "A média indica o valor onde estão concetrados os dados de um conjuto de valores, representando um valor\n",
    "significativo para o mesmo."
   ]
  },
  {
   "cell_type": "code",
   "execution_count": 48,
   "metadata": {},
   "outputs": [
    {
     "name": "stdout",
     "output_type": "stream",
     "text": [
      "Média:  2.875\n"
     ]
    }
   ],
   "source": [
    "print(\"Média: \", qnt_filhos.mean())"
   ]
  },
  {
   "cell_type": "markdown",
   "metadata": {},
   "source": [
    "### Moda\n",
    "A moda é o valor que mais se repete dentro de um conjunto"
   ]
  },
  {
   "cell_type": "code",
   "execution_count": 6,
   "metadata": {},
   "outputs": [
    {
     "name": "stdout",
     "output_type": "stream",
     "text": [
      "Moda: 3 \n"
     ]
    }
   ],
   "source": [
    "print(\"Moda: %d \" % qnt_filhos.mode())"
   ]
  },
  {
   "cell_type": "markdown",
   "metadata": {},
   "source": [
    "### Mediana\n",
    "A media é o valor central de um conjunto, ou seja, ela separa a metade superior da metade inferior de uma distribuição"
   ]
  },
  {
   "cell_type": "code",
   "execution_count": 49,
   "metadata": {},
   "outputs": [
    {
     "name": "stdout",
     "output_type": "stream",
     "text": [
      "Mediana: 3 \n"
     ]
    }
   ],
   "source": [
    "#qnt_filhos_ord = sorted(qnt_filhos)\n",
    "#centro = tam/2 \n",
    "#mediana = qnt_filhos_ord[int(centro)] # centro = 8\n",
    "#print(\"Mediana: %d \" % mediana)\n",
    "\n",
    "print(\"Mediana: %d \" % qnt_filhos.median())"
   ]
  },
  {
   "cell_type": "markdown",
   "metadata": {},
   "source": [
    "### Quartil"
   ]
  },
  {
   "cell_type": "code",
   "execution_count": 50,
   "metadata": {},
   "outputs": [
    {
     "name": "stdout",
     "output_type": "stream",
     "text": [
      "Quartil: 2 \n"
     ]
    }
   ],
   "source": [
    "print(\"Quartil: %d \" % qnt_filhos.quantile(q=0.25)) #Primeiro quartil"
   ]
  },
  {
   "cell_type": "markdown",
   "metadata": {},
   "source": [
    "### Percentil"
   ]
  },
  {
   "cell_type": "code",
   "execution_count": 52,
   "metadata": {},
   "outputs": [
    {
     "name": "stdout",
     "output_type": "stream",
     "text": [
      "Percentil:  2.0\n"
     ]
    }
   ],
   "source": [
    "percentil = np.percentile(qnt_filhos,16)\n",
    "print(\"Percentil: \", percentil)"
   ]
  },
  {
   "cell_type": "markdown",
   "metadata": {},
   "source": [
    "## Medidas de dispersão\n",
    "São medidas que indicam o quão espalhados estão os dados, ou sua variação. São elas: Amplitude, variância, desvio padrão e desvio absoluto"
   ]
  },
  {
   "cell_type": "code",
   "execution_count": 60,
   "metadata": {},
   "outputs": [
    {
     "name": "stdout",
     "output_type": "stream",
     "text": [
      "[0, 0, 0, 0, 1, 1, 1, 1, 1, 2, 2, 2, 3, 3, 5, 5, 5, 7, 8, 9]\n",
      "----------------------------------------\n",
      "Média:  2.8\n",
      "Desvio padrão: 2.78 \n",
      "Moda: 1\n",
      "Mediana: 2\n",
      "Q1: 1\n",
      "Q3: 5\n"
     ]
    }
   ],
   "source": [
    "qnt_acidentes = pd.Series([3,5,0,2,3,5,9,0,2,1,1,0,1,8,5,1,1,7,2,0])\n",
    "print(sorted(qnt_acidentes))\n",
    "\n",
    "# Descrição rapida dos dados\n",
    "# count = Quantidade de dados\n",
    "# mean = Média\n",
    "# sdt = Desvio Padrão\n",
    "# min = Valor Minimo\n",
    "# 25% = 1° Quartil\n",
    "# 50% = 1° Quartil\n",
    "# 75% = 1° Quartil\n",
    "# max = Valor máximo\n",
    "#print(qnt_acidentes.describe())\n",
    "\n",
    "print(\"----------------------------------------\")\n",
    "media = qnt_acidentes.mean()\n",
    "print(\"Média: \", media )\n",
    "print(\"Desvio padrão: %.2f \" % qnt_acidentes.std())\n",
    "print(\"Moda: %d\" % qnt_acidentes.mode())\n",
    "print(\"Mediana: %d\" % qnt_acidentes.median())\n",
    "print(\"Q1: %d\" % qnt_acidentes.quantile(q=0.25))\n",
    "print(\"Q3: %d\" % qnt_acidentes.quantile(q=0.75))\n",
    "\n",
    "percentil = np.percentile(qnt_acidentes, 73)\n",
    "\n",
    "# print(\"Percentil 73: \", percentil ) # VER ISSO"
   ]
  },
  {
   "cell_type": "code",
   "execution_count": 27,
   "metadata": {},
   "outputs": [
    {
     "name": "stdout",
     "output_type": "stream",
     "text": [
      "0.0592\n"
     ]
    }
   ],
   "source": [
    "print(((16/100)*0.37))"
   ]
  },
  {
   "cell_type": "markdown",
   "metadata": {},
   "source": [
    "### Amplitude\n",
    "#### A = maximo - minimo\n",
    "A amplitude é a diferença entre o maior e menor valor de um conjunto de dados."
   ]
  },
  {
   "cell_type": "code",
   "execution_count": 28,
   "metadata": {},
   "outputs": [
    {
     "name": "stdout",
     "output_type": "stream",
     "text": [
      "Máximo: 9 Mínimo: 0\n",
      "Amplitude: 9 \n"
     ]
    }
   ],
   "source": [
    "minimo = qnt_acidentes.min()\n",
    "maximo = qnt_acidentes.max()\n",
    "\n",
    "print(\"Máximo: %d Mínimo: %d\" % (maximo, minimo) )\n",
    "print(\"Amplitude: %d \" % (maximo - minimo))"
   ]
  },
  {
   "cell_type": "markdown",
   "metadata": {},
   "source": [
    "### Variancia \n",
    "#### (S²) - Amostral\n",
    "#### (O²) - Populacional\n",
    "A variância indica quanto os dados de um conjunto estão afastados de seu valor esperado."
   ]
  },
  {
   "cell_type": "code",
   "execution_count": 32,
   "metadata": {},
   "outputs": [
    {
     "name": "stdout",
     "output_type": "stream",
     "text": [
      "Variância: 7.747368421052631 \n"
     ]
    }
   ],
   "source": [
    "\n",
    "print(\"Variância: %s \" % qnt_acidentes.var())"
   ]
  },
  {
   "cell_type": "markdown",
   "metadata": {},
   "source": [
    "\n",
    "# DADOS QUANTITATIVOS CONTÍNUOS"
   ]
  },
  {
   "cell_type": "code",
   "execution_count": 47,
   "metadata": {},
   "outputs": [
    {
     "name": "stdout",
     "output_type": "stream",
     "text": [
      "Soma:  159.86\n",
      "Mínimo:  0.63\n",
      "Máximo:  6.29\n",
      "Amplitude:  5.66\n",
      "\n"
     ]
    },
    {
     "data": {
      "image/png": "[encoded data removed]",
      "text/plain": [
       "<Figure size 432x288 with 1 Axes>"
      ]
     },
     "metadata": {},
     "output_type": "display_data"
    }
   ],
   "source": [
    "from collections import Counter\n",
    "from pandas.tools.plotting import scatter_matrix\n",
    "\n",
    "data = [\n",
    "    1.42, 2.70, 5.67, 5.83, 5.74, 1.56, 2.32, 2.14, 0.63, 2.99, \n",
    "    1.03, 2.12, 6.01, 5.84, 5.91, 5.80, 5.54, 5.99, 2.90, 2.90, \n",
    "    5.92, 5.96, 5.73, 4.92, 6.18, 4.38, 6.29, 3.38, 3.78, 6.04, \n",
    "    3.90, 5.57, 1.47, 3.21, 2.32, 4.57, 0.98, 5.43, 1.11, 3.68\n",
    "    ]\n",
    "\n",
    "# ORDENADAS\n",
    "# CALCULAS VARIANCIA, DESVIO PADRAO\n",
    "\n",
    "soma = sum(data)\n",
    "maximo = max(data)\n",
    "minimo = min(data)\n",
    "amplitude = maximo - minimo\n",
    "\n",
    "print(\"Soma: \", soma)\n",
    "print(\"Mínimo: \", minimo)\n",
    "print(\"Máximo: \", maximo)\n",
    "print(\"Amplitude: \", amplitude)\n",
    "\n",
    "print()\n",
    "tabela_frequencia = Counter(data).most_common(len(data))\n",
    "#print(tabela_frequencia)\n",
    "\n",
    "lista = sorted(data)\n",
    "\n",
    "# MATPLOTLIB: Histograma (univariado)\n",
    "vel_internet = pd.Series(data) # Transformanda os dados em um serie\n",
    "vel_internet.hist()\n",
    "plt.show()\n",
    "\n",
    "# Gráfico de dispersão (multivariado) \n",
    "# scatter_matrix(p)\n",
    "# plt.show()\n",
    "\n",
    "# for i in range(len(lista)):\n",
    "#     print(i,\"->\",lista[i])"
   ]
  },
  {
   "cell_type": "markdown",
   "metadata": {},
   "source": [
    "### Formula \n",
    "K = 1 + 3,33 * log(n)\n",
    "\n",
    "K = nº de classes\n",
    "m = nº de dados"
   ]
  },
  {
   "cell_type": "code",
   "execution_count": 22,
   "metadata": {},
   "outputs": [
    {
     "name": "stdout",
     "output_type": "stream",
     "text": [
      "3.6888794541139363\n"
     ]
    }
   ],
   "source": [
    "import math\n",
    "\n",
    "k = math.log(40)\n",
    "print(k)\n",
    "#num_classes = amplitude / k"
   ]
  },
  {
   "cell_type": "code",
   "execution_count": 11,
   "metadata": {},
   "outputs": [
    {
     "name": "stdout",
     "output_type": "stream",
     "text": [
      "6.01\n",
      "6.18\n",
      "6.29\n",
      "6.04\n"
     ]
    }
   ],
   "source": [
    "for i in data:\n",
    "    if i > 6 and i < 7:\n",
    "        print(i)"
   ]
  },
  {
   "cell_type": "markdown",
   "metadata": {},
   "source": [
    "### Mediana da tabela\n",
    "\n",
    "m/2 = 40/2 = 20º e 21º\n",
    "\n",
    "Essas posições estão respectivamente na 4º e 5º classes\n",
    "\n",
    "#### hi = Li - li \n",
    "-> hi - 4 - 3 = 1\n",
    "\n",
    "h- = Amplitude da classe i\n",
    "Li = Limite superior na classe i\n",
    "li = Limite inferior da classe i\n",
    "\n",
    "\n",
    "hi/li = 1/5 = 0,2\n",
    "\n",
    "#### PMQ - FANT \n",
    "-> 20 - 15 = 5\n",
    "\n",
    "Pmq = Posição da mediana\n",
    "Fant = Frequência acumulada anterior\n",
    "\n",
    "### Para a posição 21º\n",
    "MQ = lit(0,2) * 5 \n",
    "-> 3 + 1 = 4\n",
    "    \n",
    "#### MQ = li + hi *(PMQ - Fant) / hi\n",
    "\n",
    "### Para a posição 21º\n",
    "MQ = 4 + 1 * (21 -20) / 3\n",
    "MQ = 4 + 1 * 1 / 3\n",
    "MQ = 4 + 1 / 3\n",
    "\n",
    "= 4,33\n",
    "\n",
    "\n",
    "### Quartil - Divide em quatro partes iguais\n",
    "\n",
    "\n",
    "m/4 = 40/4 = 10º posição(q1)\n",
    "\n",
    "esta na classe 3º posição\n",
    "\n",
    "#### 1º Quartil = q1 = li + hi(Pq1 - Fant)/li\n",
    "2 + 1*(10-7)/8\n",
    "\n",
    "2+3/8 = 2,38\n",
    "\n",
    "#### 3º Quartil = q3 = li + hi(Pq3 - Fant)/li\n",
    "5 + 1 * (30 -23)/13\n",
    "5 + 7/13\n",
    "= 5,54\n",
    "\n",
    "\n",
    "### Percentil\n",
    "p72\n",
    "#### m / 100\n",
    "40/100 = 0,4 * 72 = 28,8 POSIÇÃO\n",
    "está na 6º classe da tabela\n",
    "\n",
    "p72 = li + hi(Pq - Fant)/fi\n",
    "\n",
    "= 5 + 1*(28,8 - 23)/13\n",
    "= 5+ 5,8/13 = 5,45\n",
    "\n"
   ]
  },
  {
   "cell_type": "code",
   "execution_count": 3,
   "metadata": {},
   "outputs": [
    {
     "data": {
      "text/plain": [
       "2.875"
      ]
     },
     "execution_count": 3,
     "metadata": {},
     "output_type": "execute_result"
    }
   ],
   "source": []
  },
  {
   "cell_type": "code",
   "execution_count": null,
   "metadata": {},
   "outputs": [],
   "source": []
  }
 ],
 "metadata": {
  "kernelspec": {
   "display_name": "Python 3",
   "language": "python",
   "name": "python3"
  },
  "language_info": {
   "codemirror_mode": {
    "name": "ipython",
    "version": 3
   },
   "file_extension": ".py",
   "mimetype": "text/x-python",
   "name": "python",
   "nbconvert_exporter": "python",
   "pygments_lexer": "ipython3",
   "version": "3.5.2"
  }
 },
 "nbformat": 4,
 "nbformat_minor": 2
}
